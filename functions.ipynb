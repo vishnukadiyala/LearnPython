{
 "cells": [
  {
   "cell_type": "markdown",
   "metadata": {},
   "source": [
    "## Functions \n"
   ]
  },
  {
   "cell_type": "code",
   "execution_count": 2,
   "metadata": {},
   "outputs": [
    {
     "name": "stdout",
     "output_type": "stream",
     "text": [
      "Hello, Vishnu!\n",
      "Hello, Swapneel!\n"
     ]
    }
   ],
   "source": [
    "for i in range(20):\n",
    "    greet_user = input(\"Please enter your name: \") # ask user for their name\n",
    "    print(f\"Hello, {greet_user}!\") # greet user by their name \n"
   ]
  },
  {
   "cell_type": "code",
   "execution_count": 20,
   "metadata": {},
   "outputs": [],
   "source": [
    "def greet_user(): # Function Definition\n",
    "    \"\"\"Display a simple greeting.\"\"\" # Docstring tells python what this function does \n",
    "    name = input(\"Please enter your name: \") # ask user for their name \n",
    "    print(f\"Hello, {name}!\") # greet user by their name \n"
   ]
  },
  {
   "cell_type": "code",
   "execution_count": 21,
   "metadata": {},
   "outputs": [
    {
     "name": "stdout",
     "output_type": "stream",
     "text": [
      "Hello, Vishnu!\n"
     ]
    }
   ],
   "source": [
    "greet_user() # Function Call"
   ]
  },
  {
   "cell_type": "code",
   "execution_count": 22,
   "metadata": {},
   "outputs": [],
   "source": [
    "# How do I send variables to a function? \n",
    "def greet_user(username): # Function Definition\n",
    "    \"\"\"Display a simple greeting.\"\"\" # Docstring tells python what this function does \n",
    "    print(f\"Hello, {username}!\") # greet user by their name"
   ]
  },
  {
   "cell_type": "code",
   "execution_count": 24,
   "metadata": {},
   "outputs": [
    {
     "name": "stdout",
     "output_type": "stream",
     "text": [
      "Hello, Vishnu Kadiyala!\n"
     ]
    }
   ],
   "source": [
    "greet_user('Vishnu Kadiyala')"
   ]
  },
  {
   "cell_type": "markdown",
   "metadata": {},
   "source": [
    "#### How to work with numbers \n"
   ]
  },
  {
   "cell_type": "code",
   "execution_count": 36,
   "metadata": {},
   "outputs": [],
   "source": [
    "def add_numbers(num1, num2):\n",
    "    \"\"\"Add two numbers together and return the sum.\"\"\"\n",
    "    sum = num1 + num2\n",
    "    print(f\"The sum of {num1} , {num2} is {sum}.\") \n",
    "\n"
   ]
  },
  {
   "cell_type": "code",
   "execution_count": 37,
   "metadata": {},
   "outputs": [
    {
     "name": "stdout",
     "output_type": "stream",
     "text": [
      "The sum of 3 , 5 is 8.\n"
     ]
    }
   ],
   "source": [
    "add_numbers(3, 5) "
   ]
  },
  {
   "cell_type": "code",
   "execution_count": 29,
   "metadata": {},
   "outputs": [
    {
     "name": "stdout",
     "output_type": "stream",
     "text": [
      "My name is Vishnu Kadiyala\n"
     ]
    }
   ],
   "source": [
    "username = 'Vishnu Kadiyala'\n",
    "print(f\"My name is {username}\")"
   ]
  },
  {
   "cell_type": "code",
   "execution_count": 42,
   "metadata": {},
   "outputs": [
    {
     "name": "stdout",
     "output_type": "stream",
     "text": [
      "The name of the pet is Rex\n",
      "Hi my name is Rex and I am a Dog.\n",
      "The name of the pet is Tom\n",
      "Hi my name is Tom and I am a Cat.\n",
      "The name of the pet is Jerry\n",
      "Hi my name is Jerry and I am a Mouse.\n"
     ]
    }
   ],
   "source": [
    "# Excercise \n",
    "\n",
    "# I want to write a function that describes a pet. \n",
    "# I am going to give a name and a type of pet. (2 arguments/parameters to my function)\n",
    "# I want the function to print out a sentence that describes the pet.\n",
    "# I want to print 2 lines. 1. The name of the pet and 2. Hi, My name is ____ and I am a ____. \n",
    "\n",
    "def describe_pet(pet_name, pet_type):\n",
    "    \"\"\" Displays the name and type of a pet\"\"\"\n",
    "    print(f\"The name of the pet is {pet_name}\")\n",
    "    print(f\"Hi my name is {pet_name} and I am a {pet_type}.\")\n",
    "\n",
    "\n",
    "describe_pet(pet_type='Dog', pet_name='Rex')\n",
    "describe_pet(pet_type='Cat', pet_name='Tom')\n",
    "describe_pet(pet_type='Mouse', pet_name='Jerry')\n",
    "    \n"
   ]
  },
  {
   "cell_type": "code",
   "execution_count": 53,
   "metadata": {},
   "outputs": [
    {
     "name": "stdout",
     "output_type": "stream",
     "text": [
      "The sum of the given numbers is 15.\n"
     ]
    }
   ],
   "source": [
    "def add_numbers(num1, num2, num3 = 0, num4 = 0, num5 = 0):\n",
    "    \"\"\"Add up to 5 numbers together and print the sum.\"\"\"\n",
    "    sum = num1 + num2 + num3 + num4 + num5\n",
    "\n",
    "    if num3 == 0 and num4 == 0 and num5 == 0:\n",
    "        print(f\"The sum of {num1}, {num2} is {sum}.\")\n",
    "    elif num4 == 0 and num5 == 0:\n",
    "        print(f\"The sum of {num1}, {num2}, {num3} is {sum}.\")\n",
    "    elif num5 == 0:\n",
    "        print(f\"The sum of {num1}, {num2}, {num3}, {num4} is {sum}.\")\n",
    "    else:\n",
    "        print(f\"The sum of {num1}, {num2}, {num3}, {num4}, {num5} is {sum}.\")\n",
    "\n",
    "add_numbers(1, 2 , 3, 4, 5)"
   ]
  },
  {
   "cell_type": "code",
   "execution_count": 54,
   "metadata": {},
   "outputs": [
    {
     "name": "stdout",
     "output_type": "stream",
     "text": [
      "The sum of the given numbers is 186.\n"
     ]
    }
   ],
   "source": [
    "add_numbers(45, 65, 76)"
   ]
  },
  {
   "cell_type": "code",
   "execution_count": 60,
   "metadata": {},
   "outputs": [
    {
     "name": "stdout",
     "output_type": "stream",
     "text": [
      "<class 'tuple'>\n",
      "The sum of the numbers is 3.\n"
     ]
    }
   ],
   "source": [
    "# We dont know how many values we are going to get. so we can use *args to get any number of values.\n",
    "\n",
    "def add_numbers(*numbers):\n",
    "    \"\"\"Add any number of numbers together and print the sum.\"\"\"\n",
    "    sum = 0\n",
    "    print(type(numbers))\n",
    "    for num in numbers:\n",
    "        sum += num\n",
    "    print(f\"The sum of the numbers is {sum}.\")\n",
    "\n",
    "add_numbers(1, 2)"
   ]
  },
  {
   "cell_type": "code",
   "execution_count": null,
   "metadata": {},
   "outputs": [],
   "source": [
    "# Excercise \n",
    "\n",
    "# Make a Pizza \n",
    "# I want to write a function that takes in a list of toppings and prints out the toppings.\n",
    "# *toppings as inputs to the function. [n number of toppings]\n",
    "# I want the function to take a maxximum of 5 toppings. \n",
    "# If user gives more than 5 toppings, I want to print a message saying \"You can only have 5 toppings.\", I want to print only the first 5 toppings.\n",
    "# 1. I want to print the 5 toppings.\n",
    "# 2. I want to tell the user to redo the toppings and add only 5 toppings.\n",
    "# I want the function to print out the toppings."
   ]
  },
  {
   "cell_type": "code",
   "execution_count": 63,
   "metadata": {},
   "outputs": [],
   "source": [
    "def pizza(*toppings):\n",
    "    \"\"\"Prints the toppings of a pizza.\"\"\"\n",
    "    if len(toppings) > 5:\n",
    "        print(\"You can only have 5 toppings.\")\n",
    "    else:\n",
    "        for topping in toppings:\n",
    "            print(topping) \n"
   ]
  },
  {
   "cell_type": "code",
   "execution_count": 65,
   "metadata": {},
   "outputs": [
    {
     "name": "stdout",
     "output_type": "stream",
     "text": [
      "cheese\n",
      "pepperoni\n",
      "mushrooms\n",
      "onions\n",
      "sausage\n"
     ]
    }
   ],
   "source": [
    "pizza('cheese', 'pepperoni', 'mushrooms', 'onions', 'sausage')"
   ]
  },
  {
   "cell_type": "code",
   "execution_count": 96,
   "metadata": {},
   "outputs": [],
   "source": [
    "# return values from a function \n",
    "def add_numbers(*numbers):\n",
    "    \"\"\"Add any number of numbers together and print the sum.\"\"\"\n",
    "    sum = 0\n",
    "    for num in numbers:\n",
    "        sum += num\n",
    "    # print(sum)\n",
    "    return sum #  N number of values can be returned from a function. \n",
    "\n",
    "# Var1 ---> add_numbers (DEF)\n",
    "# Var1 ---> add_numbers (Replaced it with int value)"
   ]
  },
  {
   "cell_type": "code",
   "execution_count": 100,
   "metadata": {},
   "outputs": [],
   "source": [
    "# 10 numbers and then I want to add them together. \n",
    "# I want to find the average of all these numbers.\n",
    "added_numbers = 0 \n",
    "\n",
    "added_numbers = add_numbers(10, 20, 30, 40, 50, 60, 70, 80, 90, 100) \n",
    "\n",
    "average = added_numbers / 10\n",
    "\n",
    "# print(average)\n"
   ]
  },
  {
   "cell_type": "code",
   "execution_count": 107,
   "metadata": {},
   "outputs": [
    {
     "name": "stdout",
     "output_type": "stream",
     "text": [
      "The average marks in Science is 63.57142857142857\n"
     ]
    }
   ],
   "source": [
    "# I have 50 students in my class and I want to find the average of their marks. \n",
    "# I have 4 different subjects and I want to find the average of each subject. \n",
    "\n",
    "def average_marks(*marks): \n",
    "    \"\"\"Find the average of the marks.\"\"\"\n",
    "    sum = 0\n",
    "    for mark in marks:\n",
    "        sum += mark\n",
    "\n",
    "    # write a code to calculate the length of the list or the length of the sequence of numbers.\n",
    "    return sum / len(marks)\n",
    "\n",
    "#([value1, value2 ....])  # Tuple \n",
    "\n",
    "\n",
    "average_science = average_marks(90, 80, 70, 60, 50, 20, 30, 40, 50, 60, 70, 80, 90, 100, 90, 80, 70, 60,\n",
    "                                50, 20, 30, 40, 50, 60, 70, 80, 90, 100, 90, 80, 70, 60, 50, 20, 30, 40, 50, 60,\n",
    "                                70, 80, 90, 100, 90, 80, 70, 60, 50, 20, 30, 40, 50, 60, 70, 80, 90, 100)\n",
    "\n",
    "print(f\"The average marks in Science is {average_science}\") "
   ]
  },
  {
   "cell_type": "code",
   "execution_count": 109,
   "metadata": {},
   "outputs": [
    {
     "name": "stdout",
     "output_type": "stream",
     "text": [
      "The distance between the 2 points is 2.8284271247461903\n",
      "2.8284271247461903\n",
      "2.8284271247461903\n",
      "2.8284271247461903\n",
      "2.8284271247461903\n"
     ]
    }
   ],
   "source": [
    "# I want to calculate the distance between 2 points. (Eucleadian Distance) \n",
    "\n",
    "# (1,2) (3,4)\n",
    "\n",
    "# (x1, y1) (x2, y2)\n",
    "# sqrt((x2 - x1)^2 + (y2 - y1)^2)\n",
    "\n",
    "def eucleadian_dist(x1, y1, x2, y2):\n",
    "    \"\"\"Calculate the distance between 2 points.\"\"\"\n",
    "    distance = ((x2 - x1)**2 + (y2 - y1)**2)**0.5\n",
    "    return distance\n",
    "\n",
    "\n",
    "distance = eucleadian_dist(1, 2, 3, 4) \n",
    "print(f\"The distance between the 2 points is {distance}\")\n",
    "\n",
    "# (X1, Y1, X2, Y2) # Tuple\n",
    "points = [(1,2,3,4), (5,6,7,8), (9,10,11,12), (13,14,15,16)]\n",
    "\n",
    "for point in points: \n",
    "    print(eucleadian_dist(*point)) # Unpacking the tuple. \n",
    "\n",
    "\n",
    "# without a function \n",
    "\n",
    "# (1,2) (3,4) \n",
    "\n",
    "# sqrt((3 - 1)^2 + (4 - 2)^2) \n",
    "print (((3 - 1)**2 + (4 - 2)**2)**0.5) \n",
    "\n",
    "# (5,6) (7,8) \n",
    "print (((7 - 5)**2 + (8 + 6)**2)**0.5) \n",
    "\n",
    "# (9,10) (11,12) \n",
    "print (((11 - 9)**2 + (12 - 10)**2)**0.5)\n"
   ]
  },
  {
   "cell_type": "code",
   "execution_count": 118,
   "metadata": {},
   "outputs": [
    {
     "ename": "SyntaxError",
     "evalue": "incomplete input (1926519690.py, line 22)",
     "output_type": "error",
     "traceback": [
      "\u001b[0;36m  Cell \u001b[0;32mIn[118], line 22\u001b[0;36m\u001b[0m\n\u001b[0;31m    for i in range(3):\u001b[0m\n\u001b[0m                      ^\u001b[0m\n\u001b[0;31mSyntaxError\u001b[0m\u001b[0;31m:\u001b[0m incomplete input\n"
     ]
    }
   ],
   "source": [
    "# Dictionaries \n",
    "\n",
    "# car = {'make': 'Toyota', 'model': 'Corolla', 'year': 2015} # Key Value Pair \n",
    "\n",
    "def create_dictionary(make, model, year):\n",
    "    \"\"\"Create a dictionary of a car.\"\"\"\n",
    "    car = {'make': make, 'model': model, 'year': year}\n",
    "    return car\n",
    "\n",
    "car = {} # Empty Dictionary \n",
    "\n",
    "car1 = create_dictionary('Toyota', 'Corolla', 2015)\n",
    "car2 = create_dictionary('Honda', 'Civic', 2016)\n",
    "car3 = create_dictionary('Ford', 'Fiesta', 2017) \n",
    "car4 = create_dictionary('Chevrolet', 'Cruze', 2018)\n",
    "car5 = create_dictionary('Nissan', 'Sentra', 2019) \n",
    "\n",
    "car.update({'car1':car1}) # Add the key value pairs of car1 to car.\n",
    "car.update({'car2':car2}) # Add the key value pairs of car2 to car. \n",
    "car.update({'car3':car3}) # Add the key value pairs of car3 to car. \n",
    "\n",
    "# Using FOR loop to update the dictionary. \n",
    "\n",
    "for i in range(3):\n",
    "    make = input(\"Please enter the make of the car: \")\n",
    "    model = input(\"Please enter the model of the car: \")\n",
    "    year = int(input(\"Please enter the year of the car: \"))\n",
    "    car.update({f'car{i+1}': create_dictionary(make, model, year)})"
   ]
  },
  {
   "cell_type": "code",
   "execution_count": 117,
   "metadata": {},
   "outputs": [
    {
     "data": {
      "text/plain": [
       "{'car1': {'make': 'Toyota', 'model': 'Corolla', 'year': 2015},\n",
       " 'car2': {'make': 'Honda', 'model': 'Civic', 'year': 2016},\n",
       " 'car3': {'make': 'Ford', 'model': 'Fiesta', 'year': 2017}}"
      ]
     },
     "execution_count": 117,
     "metadata": {},
     "output_type": "execute_result"
    }
   ],
   "source": [
    "car"
   ]
  },
  {
   "cell_type": "code",
   "execution_count": 130,
   "metadata": {},
   "outputs": [
    {
     "name": "stdout",
     "output_type": "stream",
     "text": [
      "Vishnu Kumar Kadiyala\n",
      "Vishnu Kumar Kadiyala\n"
     ]
    }
   ],
   "source": [
    "a = \"vishnu\"\n",
    "a.title() # Vishnu # Capitalize the first letter of the string. \n",
    "\n",
    "def format_name(first, last, middle = ''):\n",
    "    \"\"\"Format the name of a person.\"\"\"\n",
    "    first = first.title() \n",
    "    middle = middle.title() \n",
    "    last = last.title() \n",
    "\n",
    "    name = f\"{first} {middle} {last}\"\n",
    "    return name \n",
    "\n",
    "\n",
    "# 1 \n",
    "str_name = format_name('VISHNU', 'kAdiYalA', 'Kumar')\n",
    "print(str_name) \n",
    "\n",
    "# 2 \n",
    "print(format_name('VISHNU', 'kAdiYalA', 'Kumar'))\n",
    "\n",
    "#1 and #2 are the same. \n"
   ]
  },
  {
   "cell_type": "code",
   "execution_count": 134,
   "metadata": {},
   "outputs": [
    {
     "data": {
      "text/plain": [
       "'Vishnu Fearless Kadiyala'"
      ]
     },
     "execution_count": 134,
     "metadata": {},
     "output_type": "execute_result"
    }
   ],
   "source": [
    "format_name(first = 'vishnu',middle='Fearless' ,last ='kadiyala')"
   ]
  },
  {
   "cell_type": "code",
   "execution_count": 135,
   "metadata": {},
   "outputs": [],
   "source": [
    "a = [1,2,3,4,5,6,7,8,9,10] \n",
    "\n",
    "# modify the list inside a function. \n",
    "\n",
    "def modify_list(list):\n",
    "    \"\"\"Modify the list by adding 10 to each element.\"\"\"\n",
    "    for i in range(len(list)):\n",
    "        list[i] += 10\n",
    "    return list "
   ]
  },
  {
   "cell_type": "code",
   "execution_count": 139,
   "metadata": {},
   "outputs": [
    {
     "name": "stdout",
     "output_type": "stream",
     "text": [
      "[41, 42, 43, 44, 45, 46, 47, 48, 49, 50]\n"
     ]
    },
    {
     "data": {
      "text/plain": [
       "[31, 32, 33, 34, 35, 36, 37, 38, 39, 40]"
      ]
     },
     "execution_count": 139,
     "metadata": {},
     "output_type": "execute_result"
    }
   ],
   "source": [
    "print(modify_list(a[:])) # [11,12,13,14,15,16,17,18,19,20] \n",
    "a\n",
    "\n",
    "# A list can be modified inside a function. \n",
    "# If you dont want it to be modified, you can use a copy of the list. variable_name[:] <---- Creates a copy of the list."
   ]
  },
  {
   "cell_type": "code",
   "execution_count": null,
   "metadata": {},
   "outputs": [],
   "source": [
    "https://www.w3schools.com/python/python_functions.asp"
   ]
  }
 ],
 "metadata": {
  "kernelspec": {
   "display_name": "Python 3",
   "language": "python",
   "name": "python3"
  },
  "language_info": {
   "codemirror_mode": {
    "name": "ipython",
    "version": 3
   },
   "file_extension": ".py",
   "mimetype": "text/x-python",
   "name": "python",
   "nbconvert_exporter": "python",
   "pygments_lexer": "ipython3",
   "version": "3.10.12"
  }
 },
 "nbformat": 4,
 "nbformat_minor": 2
}

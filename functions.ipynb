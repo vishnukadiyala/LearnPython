{
 "cells": [
  {
   "cell_type": "markdown",
   "metadata": {},
   "source": [
    "## Functions \n"
   ]
  },
  {
   "cell_type": "code",
   "execution_count": 2,
   "metadata": {},
   "outputs": [
    {
     "name": "stdout",
     "output_type": "stream",
     "text": [
      "Hello, Vishnu!\n",
      "Hello, Swapneel!\n"
     ]
    }
   ],
   "source": [
    "for i in range(20):\n",
    "    greet_user = input(\"Please enter your name: \") # ask user for their name\n",
    "    print(f\"Hello, {greet_user}!\") # greet user by their name \n"
   ]
  },
  {
   "cell_type": "code",
   "execution_count": 20,
   "metadata": {},
   "outputs": [],
   "source": [
    "def greet_user(): # Function Definition\n",
    "    \"\"\"Display a simple greeting.\"\"\" # Docstring tells python what this function does \n",
    "    name = input(\"Please enter your name: \") # ask user for their name \n",
    "    print(f\"Hello, {name}!\") # greet user by their name \n"
   ]
  },
  {
   "cell_type": "code",
   "execution_count": 21,
   "metadata": {},
   "outputs": [
    {
     "name": "stdout",
     "output_type": "stream",
     "text": [
      "Hello, Vishnu!\n"
     ]
    }
   ],
   "source": [
    "greet_user() # Function Call"
   ]
  },
  {
   "cell_type": "code",
   "execution_count": 22,
   "metadata": {},
   "outputs": [],
   "source": [
    "# How do I send variables to a function? \n",
    "def greet_user(username): # Function Definition\n",
    "    \"\"\"Display a simple greeting.\"\"\" # Docstring tells python what this function does \n",
    "    print(f\"Hello, {username}!\") # greet user by their name"
   ]
  },
  {
   "cell_type": "code",
   "execution_count": 24,
   "metadata": {},
   "outputs": [
    {
     "name": "stdout",
     "output_type": "stream",
     "text": [
      "Hello, Vishnu Kadiyala!\n"
     ]
    }
   ],
   "source": [
    "greet_user('Vishnu Kadiyala')"
   ]
  },
  {
   "cell_type": "markdown",
   "metadata": {},
   "source": [
    "#### How to work with numbers \n"
   ]
  },
  {
   "cell_type": "code",
   "execution_count": 36,
   "metadata": {},
   "outputs": [],
   "source": [
    "def add_numbers(num1, num2):\n",
    "    \"\"\"Add two numbers together and return the sum.\"\"\"\n",
    "    sum = num1 + num2\n",
    "    print(f\"The sum of {num1} , {num2} is {sum}.\") \n",
    "\n"
   ]
  },
  {
   "cell_type": "code",
   "execution_count": 37,
   "metadata": {},
   "outputs": [
    {
     "name": "stdout",
     "output_type": "stream",
     "text": [
      "The sum of 3 , 5 is 8.\n"
     ]
    }
   ],
   "source": [
    "add_numbers(3, 5) "
   ]
  },
  {
   "cell_type": "code",
   "execution_count": 29,
   "metadata": {},
   "outputs": [
    {
     "name": "stdout",
     "output_type": "stream",
     "text": [
      "My name is Vishnu Kadiyala\n"
     ]
    }
   ],
   "source": [
    "username = 'Vishnu Kadiyala'\n",
    "print(f\"My name is {username}\")"
   ]
  },
  {
   "cell_type": "code",
   "execution_count": 42,
   "metadata": {},
   "outputs": [
    {
     "name": "stdout",
     "output_type": "stream",
     "text": [
      "The name of the pet is Rex\n",
      "Hi my name is Rex and I am a Dog.\n",
      "The name of the pet is Tom\n",
      "Hi my name is Tom and I am a Cat.\n",
      "The name of the pet is Jerry\n",
      "Hi my name is Jerry and I am a Mouse.\n"
     ]
    }
   ],
   "source": [
    "# Excercise \n",
    "\n",
    "# I want to write a function that describes a pet. \n",
    "# I am going to give a name and a type of pet. (2 arguments/parameters to my function)\n",
    "# I want the function to print out a sentence that describes the pet.\n",
    "# I want to print 2 lines. 1. The name of the pet and 2. Hi, My name is ____ and I am a ____. \n",
    "\n",
    "def describe_pet(pet_name, pet_type):\n",
    "    \"\"\" Displays the name and type of a pet\"\"\"\n",
    "    print(f\"The name of the pet is {pet_name}\")\n",
    "    print(f\"Hi my name is {pet_name} and I am a {pet_type}.\")\n",
    "\n",
    "\n",
    "describe_pet(pet_type='Dog', pet_name='Rex')\n",
    "describe_pet(pet_type='Cat', pet_name='Tom')\n",
    "describe_pet(pet_type='Mouse', pet_name='Jerry')\n",
    "    \n"
   ]
  },
  {
   "cell_type": "code",
   "execution_count": 53,
   "metadata": {},
   "outputs": [
    {
     "name": "stdout",
     "output_type": "stream",
     "text": [
      "The sum of the given numbers is 15.\n"
     ]
    }
   ],
   "source": [
    "def add_numbers(num1, num2, num3 = 0, num4 = 0, num5 = 0):\n",
    "    \"\"\"Add up to 5 numbers together and print the sum.\"\"\"\n",
    "    sum = num1 + num2 + num3 + num4 + num5\n",
    "\n",
    "    if num3 == 0 and num4 == 0 and num5 == 0:\n",
    "        print(f\"The sum of {num1}, {num2} is {sum}.\")\n",
    "    elif num4 == 0 and num5 == 0:\n",
    "        print(f\"The sum of {num1}, {num2}, {num3} is {sum}.\")\n",
    "    elif num5 == 0:\n",
    "        print(f\"The sum of {num1}, {num2}, {num3}, {num4} is {sum}.\")\n",
    "    else:\n",
    "        print(f\"The sum of {num1}, {num2}, {num3}, {num4}, {num5} is {sum}.\")\n",
    "\n",
    "add_numbers(1, 2 , 3, 4, 5)"
   ]
  },
  {
   "cell_type": "code",
   "execution_count": 54,
   "metadata": {},
   "outputs": [
    {
     "name": "stdout",
     "output_type": "stream",
     "text": [
      "The sum of the given numbers is 186.\n"
     ]
    }
   ],
   "source": [
    "add_numbers(45, 65, 76)"
   ]
  },
  {
   "cell_type": "code",
   "execution_count": 60,
   "metadata": {},
   "outputs": [
    {
     "name": "stdout",
     "output_type": "stream",
     "text": [
      "<class 'tuple'>\n",
      "The sum of the numbers is 3.\n"
     ]
    }
   ],
   "source": [
    "# We dont know how many values we are going to get. so we can use *args to get any number of values.\n",
    "\n",
    "def add_numbers(*numbers):\n",
    "    \"\"\"Add any number of numbers together and print the sum.\"\"\"\n",
    "    sum = 0\n",
    "    print(type(numbers))\n",
    "    for num in numbers:\n",
    "        sum += num\n",
    "    print(f\"The sum of the numbers is {sum}.\")\n",
    "\n",
    "add_numbers(1, 2)"
   ]
  },
  {
   "cell_type": "code",
   "execution_count": null,
   "metadata": {},
   "outputs": [],
   "source": [
    "# Excercise \n",
    "\n",
    "# Make a Pizza \n",
    "# I want to write a function that takes in a list of toppings and prints out the toppings.\n",
    "# *toppings as inputs to the function. [n number of toppings]\n",
    "# I want the function to take a maxximum of 5 toppings. \n",
    "# If user gives more than 5 toppings, I want to print a message saying \"You can only have 5 toppings.\", I want to print only the first 5 toppings.\n",
    "# 1. I want to print the 5 toppings.\n",
    "# 2. I want to tell the user to redo the toppings and add only 5 toppings.\n",
    "# I want the function to print out the toppings."
   ]
  }
 ],
 "metadata": {
  "kernelspec": {
   "display_name": "Python 3",
   "language": "python",
   "name": "python3"
  },
  "language_info": {
   "codemirror_mode": {
    "name": "ipython",
    "version": 3
   },
   "file_extension": ".py",
   "mimetype": "text/x-python",
   "name": "python",
   "nbconvert_exporter": "python",
   "pygments_lexer": "ipython3",
   "version": "3.10.12"
  }
 },
 "nbformat": 4,
 "nbformat_minor": 2
}

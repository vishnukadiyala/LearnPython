{
 "cells": [
  {
   "cell_type": "code",
   "execution_count": 7,
   "metadata": {},
   "outputs": [
    {
     "name": "stdout",
     "output_type": "stream",
     "text": [
      "name\n",
      "NAME\n",
      "['name']\n"
     ]
    }
   ],
   "source": [
    "# STRINGS \n",
    "name = \"name\"\n",
    "print(name)\n",
    "\n",
    "# UPPER CASE (Functions)\n",
    "print(name.upper())\n",
    "\n",
    "# name = 'LOWER CASE (Functions)'\n",
    "print(name.split(' '))"
   ]
  },
  {
   "cell_type": "code",
   "execution_count": 20,
   "metadata": {},
   "outputs": [
    {
     "name": "stdout",
     "output_type": "stream",
     "text": [
      "['J', 'cK', 'ndJillWentUpTheHillToFetchAP', 'ilOfW', 'ter']\n"
     ]
    }
   ],
   "source": [
    "# name.split('a')\n",
    "\n",
    "string = 'JacKandJillWentUpTheHillToFetchAPailOfWater'\n",
    "\n",
    "print(string.split('a'))"
   ]
  },
  {
   "cell_type": "code",
   "execution_count": 23,
   "metadata": {},
   "outputs": [
    {
     "data": {
      "text/plain": [
       "3"
      ]
     },
     "execution_count": 23,
     "metadata": {},
     "output_type": "execute_result"
    }
   ],
   "source": [
    "#string.count('a')\n",
    "# string.find('K')\n",
    "#string = string.replace('a', 'A')\n",
    "# "
   ]
  },
  {
   "cell_type": "markdown",
   "metadata": {},
   "source": []
  },
  {
   "cell_type": "code",
   "execution_count": 19,
   "metadata": {},
   "outputs": [
    {
     "data": {
      "text/plain": [
       "'JacKandJillWentUpTheHillToFetchAPailOfWater'"
      ]
     },
     "execution_count": 19,
     "metadata": {},
     "output_type": "execute_result"
    }
   ],
   "source": []
  },
  {
   "cell_type": "code",
   "execution_count": 6,
   "metadata": {},
   "outputs": [
    {
     "name": "stdout",
     "output_type": "stream",
     "text": [
      "Hello World\n"
     ]
    }
   ],
   "source": [
    "# Concatenate\n",
    "a = \"Hello\"\n",
    "space = \" \"\n",
    "b = \"World\"\n",
    "print(a + space + b)"
   ]
  },
  {
   "cell_type": "code",
   "execution_count": 8,
   "metadata": {},
   "outputs": [
    {
     "name": "stdout",
     "output_type": "stream",
     "text": [
      "You entered: 20\n"
     ]
    }
   ],
   "source": [
    "# INPUTS  \n",
    "number = input(\"Enter a number: \")\n",
    "\n",
    "int(number)\n",
    "float()\n",
    "\n",
    "# Print the number\n",
    "print(\"You entered: \"+number)"
   ]
  },
  {
   "cell_type": "code",
   "execution_count": null,
   "metadata": {},
   "outputs": [],
   "source": []
  },
  {
   "cell_type": "markdown",
   "metadata": {},
   "source": [
    "TEXT "
   ]
  },
  {
   "cell_type": "code",
   "execution_count": null,
   "metadata": {},
   "outputs": [],
   "source": [
    "# Arithematic Operations\n",
    "# Addition +\n",
    "# subtraction -\n",
    "# multiplication *\n",
    "# division /\n",
    "# modulo %\n",
    "# exponentiation **\n",
    "# floor division //"
   ]
  },
  {
   "cell_type": "code",
   "execution_count": 14,
   "metadata": {},
   "outputs": [
    {
     "name": "stdout",
     "output_type": "stream",
     "text": [
      "30.2 -10.2\n"
     ]
    }
   ],
   "source": [
    "# Example\n",
    "\n",
    "a = 10 \n",
    "b = 20.2\n",
    "\n",
    "c = a + b # Addition\n",
    "d = a - b # Subtraction\n",
    "e = a * b # Multiplication\n",
    "f = a / b # Division\n",
    "\n",
    "print(c,d)\n"
   ]
  },
  {
   "cell_type": "code",
   "execution_count": 17,
   "metadata": {},
   "outputs": [
    {
     "name": "stdout",
     "output_type": "stream",
     "text": [
      "30.0\n"
     ]
    }
   ],
   "source": [
    "number1 = input(\"Enter a number1: \") # STRING\n",
    "number2 = input(\"Enter a number2: \")\n",
    "# STRING \n",
    "number1 = float(number1) # TYPE CASTING # NUMBER \n",
    "number2 = float(number2) # TYPE CASTING\n",
    "\n",
    "print(number1 + number2)"
   ]
  },
  {
   "cell_type": "markdown",
   "metadata": {},
   "source": []
  },
  {
   "cell_type": "code",
   "execution_count": 23,
   "metadata": {},
   "outputs": [
    {
     "name": "stdout",
     "output_type": "stream",
     "text": [
      "10.020\n"
     ]
    }
   ],
   "source": [
    "number1 = float(input(\"Enter a number1: \")) # STRING\n",
    "number2 = float(input(\"Enter a number2: \"))\n",
    "\n",
    "print(number1 + float(number2))"
   ]
  },
  {
   "cell_type": "code",
   "execution_count": 27,
   "metadata": {},
   "outputs": [
    {
     "name": "stdout",
     "output_type": "stream",
     "text": [
      "Addition : 30.0\n"
     ]
    }
   ],
   "source": [
    "#Experiment \n",
    "# 1. Create a program that takes two inputs and adds them together\n",
    "#perform the following operations\n",
    "# 2. Subtraction\n",
    "# 3. Multiplication\n",
    "# 4. Division\n",
    "# 5. Modulo %\n",
    "# 6. Exponentiation **\n",
    "# 7. Floor Division //\n",
    "\n",
    "# Example of floor division\n",
    "# 10 / 3 = 3.3333333333333335\n",
    "# 10 // 3 = 3\n",
    "# modulo\n",
    "# 10 % 3 = 1 # Remainder\n",
    "\n",
    "# print the results of each operation\n",
    "\n",
    "a = float(input(\"Enter a number1: \"))\n",
    "b = float(input(\"Enter a number2: \"))\n",
    "addition = a + b\n",
    "print(\"Addition :\", addition)\n"
   ]
  },
  {
   "cell_type": "code",
   "execution_count": 35,
   "metadata": {},
   "outputs": [
    {
     "name": "stdout",
     "output_type": "stream",
     "text": [
      "a is less than b\n",
      "20\n"
     ]
    }
   ],
   "source": [
    "# Conditional Statements\n",
    "# if\n",
    "# elif\n",
    "# else\n",
    "\n",
    "#Comparison Operators\n",
    "# > greater than\n",
    "# < less than\n",
    "# >= greater than or equal to\n",
    "# <= less than or equal to\n",
    "# == equal to\n",
    "# != not equal to\n",
    "\n",
    "\n",
    "# Example\n",
    "\n",
    "a = 10\n",
    "b = 20\n",
    "\n",
    "# IF STATEMENT \n",
    "# It evaluates the expression and executes the code block if the condition is True\n",
    "\n",
    "if a > b : # Expression that evaluates to True or False (Tab = 4 spaces) # 0 or 1 \n",
    "    ###################################################\n",
    "    print(\"a is greater than b\")\n",
    "    print(a)\n",
    "    # Multiple lines of code in the block\n",
    "    ###################################################\n",
    "\n",
    "elif a == b: # Else if\n",
    "    ###################################################\n",
    "    print(\"a is equal to b\")\n",
    "    print(a,b)\n",
    "    ###################################################\n",
    "else:\n",
    "    ###################################################\n",
    "    print(\"a is less than b\")\n",
    "    print(b)\n",
    "    ###################################################\n",
    "\n",
    "\n",
    "# C Programming Language start { } end\n"
   ]
  },
  {
   "cell_type": "code",
   "execution_count": 41,
   "metadata": {},
   "outputs": [
    {
     "name": "stdout",
     "output_type": "stream",
     "text": [
      "User Doesn't want to perform any operation\n"
     ]
    }
   ],
   "source": [
    "# USER INPUTS \n",
    "multiplication = False\n",
    "addition = False\n",
    "subtraction = False\n",
    "\n",
    "\n",
    "Fn1\n",
    "Fn2 \n",
    "Fn3\n",
    "\n",
    "# bool()\n",
    "number1 = 20\n",
    "number2 = 20\n",
    "\n",
    "# Example \n",
    "# if the number 1 is greater than number 2 then perform the addition\n",
    "# if the number 1 is less than number 2 then perform the subtraction\n",
    "# if the number 1 is equal to number 2 then perform the multiplication\n",
    "# does user want to perform the addition, subtraction or multiplication\n",
    "# I will use boolean values to determine the operation to perform\n",
    "\n",
    "# Logical Expressions\n",
    "# and - if both are true then the expression is true\n",
    "# or - if any of it is true then the expression is true\n",
    "# not - if the expression is false then it is true\n",
    "\n",
    "if(addition or subtraction or multiplication):\n",
    " ###############################################\n",
    "    if number1 > number2:\n",
    "        if addition:\n",
    "            print(number1 + number2)\n",
    "        else:\n",
    "            print(\"User doesn't want to perform addition\")\n",
    "\n",
    "    elif number1 < number2:\n",
    "        if subtraction:\n",
    "            print(number1 - number2)\n",
    "        else:\n",
    "            print(\"User doesn't want to perform subtraction\")\n",
    "\n",
    "    elif number1 == number2:\n",
    "        if multiplication:\n",
    "            print(number1 * number2)\n",
    "        else:\n",
    "            print(\"User doesn't want to perform multiplication\")\n",
    "\n",
    "    else:\n",
    "        print(\"Invalid\")\n",
    "        ###############################################\n",
    "else:\n",
    "    print(\"User Doesn't want to perform any operation\")"
   ]
  },
  {
   "cell_type": "markdown",
   "metadata": {},
   "source": [
    "Calculator that performs 4 operations on two numbers: addition, subtraction, multiplication, and division. The calculator will display the result of the operation and the remainder of the division if the operation is division. The calculator will also display an error message if the operation is invalid. "
   ]
  },
  {
   "cell_type": "code",
   "execution_count": 42,
   "metadata": {},
   "outputs": [
    {
     "name": "stdout",
     "output_type": "stream",
     "text": [
      "Simple Calculator\n",
      "1. Addition\n",
      "2. Subtraction\n",
      "3. Multiplication\n",
      "4. Division\n",
      "You can perform these operations on 2 numbers \n",
      "30.0\n"
     ]
    }
   ],
   "source": [
    "# Let's build a Simple calculator\n",
    "# 1. Addition\n",
    "# 2. Subtraction\n",
    "# 3. Multiplication\n",
    "# 4. Division\n",
    "\n",
    "# User inputs (Numbers)\n",
    "\n",
    "# User inputs (Operation) (1,2,3,4) (1- addition, 2- subtraction, 3- multiplication, 4- division)\n",
    "\n",
    "# Perform the operations using if and elif statements.\n",
    "\n",
    "# HINTS \n",
    "# Use the input function to take user inputs\n",
    "# 3 User inputs (number1, number2, operation)\n",
    "# Use if and elif statements to perform the operations\n",
    "# Else statement to handle invalid operations (Example: 20)\n",
    "# Check for division by zero also. (number 2 should not be zero) use if statement to check for this condition and print an error message. \n",
    "# and this should only happen if operation is division.\n",
    "\n",
    "# Advanced (Learnings: string comparison and boolean assignments) \n",
    "# Check for the operation using a string (Example: \"add\", \"sub\", \"mul\", \"div\")  \n",
    "# and assign the operation to a variable and use the variable in the if and elif statements.\n",
    "# Add other operations like modulo, exponentiation, floor division etc.\n",
    "\n",
    "print(\"Simple Calculator\")\n",
    "print(\"1. Addition\")\n",
    "print(\"2. Subtraction\")\n",
    "print(\"3. Multiplication\")\n",
    "print(\"4. Division\")\n",
    "\n",
    "print(\"You can perform these operations on 2 numbers \")\n",
    "\n",
    "number1 = float(input(\"Enter a number1: \"))\n",
    "number2 = float(input(\"Enter a number2: \"))\n",
    "operation = int(input(\"Enter the operation: \"))\n",
    "\n",
    "if operation == 1:\n",
    "    print(number1 + number2)\n",
    "elif operation == 2:\n",
    "    print(number1 - number2)\n",
    "elif operation == 3:\n",
    "    print(number1 * number2)\n",
    "elif operation == 4:\n",
    "    if number2 != 0:\n",
    "        print(number1 / number2)\n",
    "    else:\n",
    "        print(\"Number 2 should not be zero\")\n",
    "elif operation == 5:\n",
    "    print(number1 % number2)\n",
    "elif operation == 6:\n",
    "    print(number1 ** number2)\n",
    "else:\n",
    "    print(\"Invalid Operation\")\n"
   ]
  },
  {
   "cell_type": "markdown",
   "metadata": {},
   "source": [
    "## CLASS 2: Lists and For Loops "
   ]
  },
  {
   "cell_type": "code",
   "execution_count": 72,
   "metadata": {},
   "outputs": [],
   "source": [
    "# Data structures\n",
    "\n",
    "# Lists\n",
    "\n",
    "ListB = [1,2,3,4,5] # List of numbers\n",
    "\n",
    "# Accessing elements in a list\n",
    "#  Python is a zero based index language\n",
    "ListB[0]\n",
    "\n",
    "# Slicing\n",
    "ListB[1:3]\n",
    "ListB[3:]\n",
    "ListB[:3]\n",
    "\n",
    "# Modifying elements in a list\n",
    "ListB[0] = 10"
   ]
  },
  {
   "cell_type": "code",
   "execution_count": 49,
   "metadata": {},
   "outputs": [],
   "source": [
    "## ListB[#index]= value\n",
    "\n",
    "# Adding elements to a list\n",
    "ListB.append(6)"
   ]
  },
  {
   "cell_type": "code",
   "execution_count": 85,
   "metadata": {},
   "outputs": [
    {
     "data": {
      "text/plain": [
       "10"
      ]
     },
     "execution_count": 85,
     "metadata": {},
     "output_type": "execute_result"
    }
   ],
   "source": [
    "ListB.append(7)\n",
    "# ListB.clear()\n",
    "ListB.count(7)"
   ]
  },
  {
   "cell_type": "code",
   "execution_count": 90,
   "metadata": {},
   "outputs": [],
   "source": [
    "ListB.index(7)\n",
    "ListB.insert(3, 100)\n",
    "ListB.pop()"
   ]
  },
  {
   "cell_type": "code",
   "execution_count": 111,
   "metadata": {},
   "outputs": [
    {
     "data": {
      "text/plain": [
       "[1, 5, 6, 7, 3, 4, 2, 8, 9, 10]"
      ]
     },
     "execution_count": 111,
     "metadata": {},
     "output_type": "execute_result"
    }
   ],
   "source": [
    "A = [1,5, 6, 7,3 ,4 ,2, 8, 9, 10]\n",
    "A"
   ]
  },
  {
   "cell_type": "code",
   "execution_count": 101,
   "metadata": {},
   "outputs": [],
   "source": [
    "A.reverse()"
   ]
  },
  {
   "cell_type": "code",
   "execution_count": 105,
   "metadata": {},
   "outputs": [],
   "source": [
    "A.sort(reverse=True)"
   ]
  },
  {
   "cell_type": "code",
   "execution_count": 112,
   "metadata": {},
   "outputs": [],
   "source": [
    "A.sort(reverse=True)"
   ]
  },
  {
   "cell_type": "code",
   "execution_count": 113,
   "metadata": {},
   "outputs": [
    {
     "data": {
      "text/plain": [
       "[10, 9, 8, 7, 6, 5, 4, 3, 2, 1]"
      ]
     },
     "execution_count": 113,
     "metadata": {},
     "output_type": "execute_result"
    }
   ],
   "source": [
    "A"
   ]
  },
  {
   "cell_type": "code",
   "execution_count": 31,
   "metadata": {},
   "outputs": [
    {
     "data": {
      "text/plain": [
       "[1, 2]"
      ]
     },
     "execution_count": 31,
     "metadata": {},
     "output_type": "execute_result"
    }
   ],
   "source": [
    "ListM = [[1,2], [3,4]] # Nested List\n",
    "ListM[0]"
   ]
  },
  {
   "cell_type": "code",
   "execution_count": 115,
   "metadata": {},
   "outputs": [
    {
     "data": {
      "text/plain": [
       "[100, 10, 10, 100, 2, 3, 4, 5, 7, 7, 7, 7, 7, 7, 7, 7, 7]"
      ]
     },
     "execution_count": 115,
     "metadata": {},
     "output_type": "execute_result"
    }
   ],
   "source": [
    "ListB"
   ]
  },
  {
   "cell_type": "code",
   "execution_count": 120,
   "metadata": {},
   "outputs": [
    {
     "data": {
      "text/plain": [
       "[100, 10, 10, 100, 2, 3, 4, 5, 7, 7, 7, 7, 7, 7, 7, 7, 7]"
      ]
     },
     "execution_count": 120,
     "metadata": {},
     "output_type": "execute_result"
    }
   ],
   "source": [
    "ListB"
   ]
  },
  {
   "cell_type": "code",
   "execution_count": 118,
   "metadata": {},
   "outputs": [
    {
     "name": "stdout",
     "output_type": "stream",
     "text": [
      "10000\n",
      "100\n",
      "100\n",
      "10000\n",
      "4\n",
      "9\n",
      "16\n",
      "25\n",
      "49\n",
      "49\n",
      "49\n",
      "49\n",
      "49\n",
      "49\n",
      "49\n",
      "49\n",
      "49\n"
     ]
    }
   ],
   "source": [
    "# FOR LOOP\n",
    "\n",
    "# square all the elements in the list\n",
    "for i in ListB:\n",
    "    element = element * element\n",
    "\n",
    "    print(element)"
   ]
  },
  {
   "cell_type": "code",
   "execution_count": 129,
   "metadata": {},
   "outputs": [],
   "source": [
    "ListB.clear()\n",
    "ListB = [i for i in range(1, 11)]"
   ]
  },
  {
   "cell_type": "code",
   "execution_count": 132,
   "metadata": {},
   "outputs": [
    {
     "name": "stdout",
     "output_type": "stream",
     "text": [
      "1\n",
      "2\n",
      "3\n",
      "4\n",
      "5\n",
      "6\n",
      "7\n",
      "8\n",
      "9\n",
      "10\n"
     ]
    }
   ],
   "source": [
    "# iterate through the list and print the elements it only iterates when it is a for loop \n",
    "for i in range(1, 11):\n",
    "    print(i)"
   ]
  },
  {
   "cell_type": "code",
   "execution_count": 133,
   "metadata": {},
   "outputs": [
    {
     "data": {
      "text/plain": [
       "[1, 2, 3, 4, 5, 6, 7, 8, 9, 10]"
      ]
     },
     "execution_count": 133,
     "metadata": {},
     "output_type": "execute_result"
    }
   ],
   "source": [
    "ListB"
   ]
  },
  {
   "cell_type": "code",
   "execution_count": 134,
   "metadata": {},
   "outputs": [],
   "source": [
    "for i in range(len(ListB) - 1):\n",
    "    ListB[i] = ListB[i + 1] * ListB[i]"
   ]
  },
  {
   "cell_type": "code",
   "execution_count": 136,
   "metadata": {},
   "outputs": [],
   "source": [
    "List = [\"Apple\", \"Banana\", \"Cherry\"]"
   ]
  },
  {
   "cell_type": "code",
   "execution_count": 139,
   "metadata": {},
   "outputs": [],
   "source": [
    "List.append('Guava')"
   ]
  },
  {
   "cell_type": "code",
   "execution_count": 141,
   "metadata": {},
   "outputs": [
    {
     "data": {
      "text/plain": [
       "'Guava'"
      ]
     },
     "execution_count": 141,
     "metadata": {},
     "output_type": "execute_result"
    }
   ],
   "source": [
    "List.pop()"
   ]
  },
  {
   "cell_type": "code",
   "execution_count": 142,
   "metadata": {},
   "outputs": [
    {
     "data": {
      "text/plain": [
       "['Apple', 'Banana', 'Cherry']"
      ]
     },
     "execution_count": 142,
     "metadata": {},
     "output_type": "execute_result"
    }
   ],
   "source": [
    "List"
   ]
  },
  {
   "cell_type": "code",
   "execution_count": 135,
   "metadata": {},
   "outputs": [
    {
     "data": {
      "text/plain": [
       "[2, 6, 12, 20, 30, 42, 56, 72, 90, 10]"
      ]
     },
     "execution_count": 135,
     "metadata": {},
     "output_type": "execute_result"
    }
   ],
   "source": [
    "ListB"
   ]
  },
  {
   "cell_type": "code",
   "execution_count": null,
   "metadata": {},
   "outputs": [],
   "source": [
    "range(1, 10)"
   ]
  },
  {
   "cell_type": "code",
   "execution_count": 152,
   "metadata": {},
   "outputs": [],
   "source": [
    "oddNumbers = []\n",
    "for i in range(1, 10, 2): # Range function (start, end, step)\n",
    "    oddNumbers.append(i+1)"
   ]
  },
  {
   "cell_type": "code",
   "execution_count": 153,
   "metadata": {},
   "outputs": [
    {
     "data": {
      "text/plain": [
       "[2, 4, 6, 8, 10]"
      ]
     },
     "execution_count": 153,
     "metadata": {},
     "output_type": "execute_result"
    }
   ],
   "source": [
    "oddNumbers"
   ]
  },
  {
   "cell_type": "code",
   "execution_count": 186,
   "metadata": {},
   "outputs": [],
   "source": [
    "List.append('Apple')"
   ]
  },
  {
   "cell_type": "code",
   "execution_count": 188,
   "metadata": {},
   "outputs": [],
   "source": [
    "List.insert(2, 'Orange')"
   ]
  },
  {
   "cell_type": "code",
   "execution_count": 191,
   "metadata": {},
   "outputs": [],
   "source": [
    "List.remove('Orange')"
   ]
  },
  {
   "cell_type": "code",
   "execution_count": 193,
   "metadata": {},
   "outputs": [],
   "source": [
    "orangePresent = False\n",
    "\n",
    "for fruit in List:\n",
    "    if fruit != \"Orange\":\n",
    "        pass\n",
    "    else:\n",
    "        orangePresent = True\n",
    "        break # Breaks the loop\n",
    "\n",
    "if not(orangePresent):\n",
    "    List.append('Orange')\n",
    "        "
   ]
  },
  {
   "cell_type": "code",
   "execution_count": 194,
   "metadata": {},
   "outputs": [
    {
     "data": {
      "text/plain": [
       "['Banana',\n",
       " 'Cherry',\n",
       " 'Apple',\n",
       " 'Apple',\n",
       " 'Apple',\n",
       " 'Apple',\n",
       " 'Apple',\n",
       " 'Apple',\n",
       " 'Apple',\n",
       " 'Orange']"
      ]
     },
     "execution_count": 194,
     "metadata": {},
     "output_type": "execute_result"
    }
   ],
   "source": [
    "List"
   ]
  },
  {
   "cell_type": "code",
   "execution_count": 180,
   "metadata": {},
   "outputs": [],
   "source": [
    "i = 0 \n",
    "\n",
    "for j in range(10):\n",
    "    if i > 0: \n",
    "        print(\"Positive\")"
   ]
  },
  {
   "cell_type": "code",
   "execution_count": 178,
   "metadata": {},
   "outputs": [],
   "source": [
    "i = i + 2"
   ]
  },
  {
   "cell_type": "code",
   "execution_count": 175,
   "metadata": {},
   "outputs": [],
   "source": [
    "List = List[:3] # List slicing "
   ]
  },
  {
   "cell_type": "code",
   "execution_count": 176,
   "metadata": {},
   "outputs": [
    {
     "data": {
      "text/plain": [
       "['Banana', 'Cherry', 'Apple']"
      ]
     },
     "execution_count": 176,
     "metadata": {},
     "output_type": "execute_result"
    }
   ],
   "source": [
    "List"
   ]
  },
  {
   "cell_type": "code",
   "execution_count": 165,
   "metadata": {},
   "outputs": [
    {
     "ename": "AttributeError",
     "evalue": "'list' object has no attribute 'unique'",
     "output_type": "error",
     "traceback": [
      "\u001b[0;31m---------------------------------------------------------------------------\u001b[0m",
      "\u001b[0;31mAttributeError\u001b[0m                            Traceback (most recent call last)",
      "Cell \u001b[0;32mIn[165], line 1\u001b[0m\n\u001b[0;32m----> 1\u001b[0m \u001b[43mList\u001b[49m\u001b[38;5;241;43m.\u001b[39;49m\u001b[43munique\u001b[49m()\n",
      "\u001b[0;31mAttributeError\u001b[0m: 'list' object has no attribute 'unique'"
     ]
    }
   ],
   "source": []
  },
  {
   "cell_type": "code",
   "execution_count": 211,
   "metadata": {},
   "outputs": [],
   "source": [
    "Numbers = [1,2,3,4,5,6,7,8,9,10]"
   ]
  },
  {
   "cell_type": "code",
   "execution_count": 214,
   "metadata": {},
   "outputs": [],
   "source": [
    "# List Comprehension\n",
    "NewNumbers = [i*2 for i in Numbers]"
   ]
  },
  {
   "cell_type": "code",
   "execution_count": 215,
   "metadata": {},
   "outputs": [
    {
     "data": {
      "text/plain": [
       "[2, 4, 6, 8, 10, 12, 14, 16, 18, 20]"
      ]
     },
     "execution_count": 215,
     "metadata": {},
     "output_type": "execute_result"
    }
   ],
   "source": [
    "NewNumbers"
   ]
  },
  {
   "cell_type": "code",
   "execution_count": 209,
   "metadata": {},
   "outputs": [],
   "source": [
    "Numbers = [1,2,3,4,5,6,7,8,9,10]\n",
    "\n",
    "# Print the even numbers in the list\n",
    "for i in range(len(Numbers)):\n",
    "    Numbers[i] = Numbers[i] * 2"
   ]
  },
  {
   "cell_type": "code",
   "execution_count": 210,
   "metadata": {},
   "outputs": [
    {
     "data": {
      "text/plain": [
       "[2, 4, 6, 8, 10, 12, 14, 16, 18, 20]"
      ]
     },
     "execution_count": 210,
     "metadata": {},
     "output_type": "execute_result"
    }
   ],
   "source": [
    "Numbers"
   ]
  },
  {
   "cell_type": "code",
   "execution_count": 221,
   "metadata": {},
   "outputs": [],
   "source": [
    "# Nested List \n",
    "List_of_numbers = [[i*2 for i in Numbers], [i*3 for i in Numbers], [i*4 for i in Numbers]] "
   ]
  },
  {
   "cell_type": "code",
   "execution_count": 217,
   "metadata": {},
   "outputs": [
    {
     "data": {
      "text/plain": [
       "2"
      ]
     },
     "execution_count": 217,
     "metadata": {},
     "output_type": "execute_result"
    }
   ],
   "source": [
    "len(List_of_numbers)"
   ]
  },
  {
   "cell_type": "code",
   "execution_count": 202,
   "metadata": {},
   "outputs": [
    {
     "data": {
      "text/plain": [
       "4"
      ]
     },
     "execution_count": 202,
     "metadata": {},
     "output_type": "execute_result"
    }
   ],
   "source": [
    "len(List_of_numbers) "
   ]
  },
  {
   "cell_type": "code",
   "execution_count": 222,
   "metadata": {},
   "outputs": [
    {
     "name": "stdout",
     "output_type": "stream",
     "text": [
      "[[2, 4, 6, 8, 10, 12, 14, 16, 18, 20], [3, 6, 9, 12, 15, 18, 21, 24, 27, 30], [4, 8, 12, 16, 20, 24, 28, 32, 36, 40]]\n"
     ]
    }
   ],
   "source": [
    "print(List_of_numbers)"
   ]
  },
  {
   "cell_type": "code",
   "execution_count": 244,
   "metadata": {},
   "outputs": [],
   "source": [
    "array = [[1,2,3,4,5,6,7,8,9], [10,20,30,40,50,60,70,80,90], [100, 200, 300, 400, 500, 600, 700, 800, 900]]"
   ]
  },
  {
   "cell_type": "code",
   "execution_count": 245,
   "metadata": {},
   "outputs": [
    {
     "data": {
      "text/plain": [
       "[[1, 2, 3, 4, 5, 6, 7, 8, 9],\n",
       " [10, 20, 30, 40, 50, 60, 70, 80, 90],\n",
       " [100, 200, 300, 400, 500, 600, 700, 800, 900]]"
      ]
     },
     "execution_count": 245,
     "metadata": {},
     "output_type": "execute_result"
    }
   ],
   "source": [
    "array"
   ]
  },
  {
   "cell_type": "code",
   "execution_count": 250,
   "metadata": {},
   "outputs": [
    {
     "name": "stdout",
     "output_type": "stream",
     "text": [
      "1\n"
     ]
    }
   ],
   "source": [
    "for i in range(1):\n",
    "    #[1,2,3,4,5,6,7,8,9]\n",
    "    for j in range(1):\n",
    "        # [1]\n",
    "        print(array[i][j])"
   ]
  },
  {
   "cell_type": "code",
   "execution_count": 243,
   "metadata": {},
   "outputs": [
    {
     "name": "stdout",
     "output_type": "stream",
     "text": [
      "1\n",
      "2\n",
      "3\n"
     ]
    }
   ],
   "source": [
    "# Nested FOR LOOP\n",
    "for i in range(len(array)):\n",
    "    # index of the first loop\n",
    "    for j in range(len(array[i])):\n",
    "        # j is the index of the second loop\n",
    "        print(array[i][j])\n",
    "    \n",
    "    break \n",
    "    "
   ]
  },
  {
   "cell_type": "code",
   "execution_count": 237,
   "metadata": {},
   "outputs": [
    {
     "name": "stdout",
     "output_type": "stream",
     "text": [
      "1\n"
     ]
    }
   ],
   "source": [
    "print(array[0][0])"
   ]
  },
  {
   "cell_type": "code",
   "execution_count": null,
   "metadata": {},
   "outputs": [],
   "source": [
    "# Excercise \n",
    "# 1. Create a list of numbers from 1 to 100\n",
    "# 2. Print the even numbers in the list (For Loop)\n",
    "# 3. Print the odd numbers in the list  (For Loop)\n",
    "# 4. Print the numbers divisible by 3 (List Compreshension)"
   ]
  },
  {
   "cell_type": "markdown",
   "metadata": {},
   "source": []
  }
 ],
 "metadata": {
  "kernelspec": {
   "display_name": "Python 3",
   "language": "python",
   "name": "python3"
  },
  "language_info": {
   "codemirror_mode": {
    "name": "ipython",
    "version": 3
   },
   "file_extension": ".py",
   "mimetype": "text/x-python",
   "name": "python",
   "nbconvert_exporter": "python",
   "pygments_lexer": "ipython3",
   "version": "3.9.6"
  }
 },
 "nbformat": 4,
 "nbformat_minor": 2
}

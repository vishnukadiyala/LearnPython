{
 "cells": [
  {
   "cell_type": "code",
   "execution_count": 7,
   "metadata": {},
   "outputs": [
    {
     "name": "stdout",
     "output_type": "stream",
     "text": [
      "name\n",
      "NAME\n",
      "['name']\n"
     ]
    }
   ],
   "source": [
    "# STRINGS \n",
    "name = \"name\"\n",
    "print(name)\n",
    "\n",
    "# UPPER CASE (Functions)\n",
    "print(name.upper())\n",
    "\n",
    "# name = 'LOWER CASE (Functions)'\n",
    "print(name.split(' '))"
   ]
  },
  {
   "cell_type": "code",
   "execution_count": 20,
   "metadata": {},
   "outputs": [
    {
     "name": "stdout",
     "output_type": "stream",
     "text": [
      "['J', 'cK', 'ndJillWentUpTheHillToFetchAP', 'ilOfW', 'ter']\n"
     ]
    }
   ],
   "source": [
    "# name.split('a')\n",
    "\n",
    "string = 'JacKandJillWentUpTheHillToFetchAPailOfWater'\n",
    "\n",
    "print(string.split('a'))"
   ]
  },
  {
   "cell_type": "code",
   "execution_count": 23,
   "metadata": {},
   "outputs": [
    {
     "data": {
      "text/plain": [
       "3"
      ]
     },
     "execution_count": 23,
     "metadata": {},
     "output_type": "execute_result"
    }
   ],
   "source": [
    "#string.count('a')\n",
    "# string.find('K')\n",
    "#string = string.replace('a', 'A')\n",
    "# "
   ]
  },
  {
   "cell_type": "markdown",
   "metadata": {},
   "source": []
  },
  {
   "cell_type": "code",
   "execution_count": 19,
   "metadata": {},
   "outputs": [
    {
     "data": {
      "text/plain": [
       "'JacKandJillWentUpTheHillToFetchAPailOfWater'"
      ]
     },
     "execution_count": 19,
     "metadata": {},
     "output_type": "execute_result"
    }
   ],
   "source": []
  },
  {
   "cell_type": "code",
   "execution_count": 6,
   "metadata": {},
   "outputs": [
    {
     "name": "stdout",
     "output_type": "stream",
     "text": [
      "Hello World\n"
     ]
    }
   ],
   "source": [
    "# Concatenate\n",
    "a = \"Hello\"\n",
    "space = \" \"\n",
    "b = \"World\"\n",
    "print(a + space + b)"
   ]
  },
  {
   "cell_type": "code",
   "execution_count": 8,
   "metadata": {},
   "outputs": [
    {
     "name": "stdout",
     "output_type": "stream",
     "text": [
      "You entered: 20\n"
     ]
    }
   ],
   "source": [
    "# INPUTS  \n",
    "number = input(\"Enter a number: \")\n",
    "\n",
    "int(number)\n",
    "float()\n",
    "\n",
    "# Print the number\n",
    "print(\"You entered: \"+number)"
   ]
  },
  {
   "cell_type": "code",
   "execution_count": null,
   "metadata": {},
   "outputs": [],
   "source": []
  },
  {
   "cell_type": "markdown",
   "metadata": {},
   "source": [
    "TEXT "
   ]
  },
  {
   "cell_type": "code",
   "execution_count": null,
   "metadata": {},
   "outputs": [],
   "source": [
    "# Arithematic Operations\n",
    "# Addition +\n",
    "# subtraction -\n",
    "# multiplication *\n",
    "# division /\n",
    "# modulo %\n",
    "# exponentiation **\n",
    "# floor division //"
   ]
  },
  {
   "cell_type": "code",
   "execution_count": 14,
   "metadata": {},
   "outputs": [
    {
     "name": "stdout",
     "output_type": "stream",
     "text": [
      "30.2 -10.2\n"
     ]
    }
   ],
   "source": [
    "# Example\n",
    "\n",
    "a = 10 \n",
    "b = 20.2\n",
    "\n",
    "c = a + b # Addition\n",
    "d = a - b # Subtraction\n",
    "e = a * b # Multiplication\n",
    "f = a / b # Division\n",
    "\n",
    "print(c,d)\n"
   ]
  },
  {
   "cell_type": "code",
   "execution_count": 17,
   "metadata": {},
   "outputs": [
    {
     "name": "stdout",
     "output_type": "stream",
     "text": [
      "30.0\n"
     ]
    }
   ],
   "source": [
    "number1 = input(\"Enter a number1: \") # STRING\n",
    "number2 = input(\"Enter a number2: \")\n",
    "# STRING \n",
    "number1 = float(number1) # TYPE CASTING # NUMBER \n",
    "number2 = float(number2) # TYPE CASTING\n",
    "\n",
    "print(number1 + number2)"
   ]
  },
  {
   "cell_type": "markdown",
   "metadata": {},
   "source": []
  },
  {
   "cell_type": "code",
   "execution_count": 23,
   "metadata": {},
   "outputs": [
    {
     "name": "stdout",
     "output_type": "stream",
     "text": [
      "10.020\n"
     ]
    }
   ],
   "source": [
    "number1 = float(input(\"Enter a number1: \")) # STRING\n",
    "number2 = float(input(\"Enter a number2: \"))\n",
    "\n",
    "print(number1 + float(number2))"
   ]
  },
  {
   "cell_type": "code",
   "execution_count": 27,
   "metadata": {},
   "outputs": [
    {
     "name": "stdout",
     "output_type": "stream",
     "text": [
      "Addition : 30.0\n"
     ]
    }
   ],
   "source": [
    "#Experiment \n",
    "# 1. Create a program that takes two inputs and adds them together\n",
    "#perform the following operations\n",
    "# 2. Subtraction\n",
    "# 3. Multiplication\n",
    "# 4. Division\n",
    "# 5. Modulo %\n",
    "# 6. Exponentiation **\n",
    "# 7. Floor Division //\n",
    "\n",
    "# Example of floor division\n",
    "# 10 / 3 = 3.3333333333333335\n",
    "# 10 // 3 = 3\n",
    "# modulo\n",
    "# 10 % 3 = 1 # Remainder\n",
    "\n",
    "# print the results of each operation\n",
    "\n",
    "a = float(input(\"Enter a number1: \"))\n",
    "b = float(input(\"Enter a number2: \"))\n",
    "addition = a + b\n",
    "print(\"Addition :\", addition)\n"
   ]
  },
  {
   "cell_type": "code",
   "execution_count": 35,
   "metadata": {},
   "outputs": [
    {
     "name": "stdout",
     "output_type": "stream",
     "text": [
      "a is less than b\n",
      "20\n"
     ]
    }
   ],
   "source": [
    "# Conditional Statements\n",
    "# if\n",
    "# elif\n",
    "# else\n",
    "\n",
    "#Comparison Operators\n",
    "# > greater than\n",
    "# < less than\n",
    "# >= greater than or equal to\n",
    "# <= less than or equal to\n",
    "# == equal to\n",
    "# != not equal to\n",
    "\n",
    "\n",
    "# Example\n",
    "\n",
    "a = 10\n",
    "b = 20\n",
    "\n",
    "# IF STATEMENT \n",
    "# It evaluates the expression and executes the code block if the condition is True\n",
    "\n",
    "if a > b : # Expression that evaluates to True or False (Tab = 4 spaces) # 0 or 1 \n",
    "    ###################################################\n",
    "    print(\"a is greater than b\")\n",
    "    print(a)\n",
    "    # Multiple lines of code in the block\n",
    "    ###################################################\n",
    "\n",
    "elif a == b: # Else if\n",
    "    ###################################################\n",
    "    print(\"a is equal to b\")\n",
    "    print(a,b)\n",
    "    ###################################################\n",
    "else:\n",
    "    ###################################################\n",
    "    print(\"a is less than b\")\n",
    "    print(b)\n",
    "    ###################################################\n",
    "\n",
    "\n",
    "# C Programming Language start { } end\n"
   ]
  },
  {
   "cell_type": "code",
   "execution_count": 41,
   "metadata": {},
   "outputs": [
    {
     "name": "stdout",
     "output_type": "stream",
     "text": [
      "User Doesn't want to perform any operation\n"
     ]
    }
   ],
   "source": [
    "# USER INPUTS \n",
    "multiplication = False\n",
    "addition = False\n",
    "subtraction = False\n",
    "\n",
    "\n",
    "Fn1\n",
    "Fn2 \n",
    "Fn3\n",
    "\n",
    "# bool()\n",
    "number1 = 20\n",
    "number2 = 20\n",
    "\n",
    "# Example \n",
    "# if the number 1 is greater than number 2 then perform the addition\n",
    "# if the number 1 is less than number 2 then perform the subtraction\n",
    "# if the number 1 is equal to number 2 then perform the multiplication\n",
    "# does user want to perform the addition, subtraction or multiplication\n",
    "# I will use boolean values to determine the operation to perform\n",
    "\n",
    "# Logical Expressions\n",
    "# and - if both are true then the expression is true\n",
    "# or - if any of it is true then the expression is true\n",
    "# not - if the expression is false then it is true\n",
    "\n",
    "if(addition or subtraction or multiplication):\n",
    " ###############################################\n",
    "    if number1 > number2:\n",
    "        if addition:\n",
    "            print(number1 + number2)\n",
    "        else:\n",
    "            print(\"User doesn't want to perform addition\")\n",
    "\n",
    "    elif number1 < number2:\n",
    "        if subtraction:\n",
    "            print(number1 - number2)\n",
    "        else:\n",
    "            print(\"User doesn't want to perform subtraction\")\n",
    "\n",
    "    elif number1 == number2:\n",
    "        if multiplication:\n",
    "            print(number1 * number2)\n",
    "        else:\n",
    "            print(\"User doesn't want to perform multiplication\")\n",
    "\n",
    "    else:\n",
    "        print(\"Invalid\")\n",
    "        ###############################################\n",
    "else:\n",
    "    print(\"User Doesn't want to perform any operation\")"
   ]
  },
  {
   "cell_type": "markdown",
   "metadata": {},
   "source": [
    "Calculator that performs 4 operations on two numbers: addition, subtraction, multiplication, and division. The calculator will display the result of the operation and the remainder of the division if the operation is division. The calculator will also display an error message if the operation is invalid. "
   ]
  },
  {
   "cell_type": "code",
   "execution_count": 42,
   "metadata": {},
   "outputs": [
    {
     "name": "stdout",
     "output_type": "stream",
     "text": [
      "Simple Calculator\n",
      "1. Addition\n",
      "2. Subtraction\n",
      "3. Multiplication\n",
      "4. Division\n",
      "You can perform these operations on 2 numbers \n",
      "30.0\n"
     ]
    }
   ],
   "source": [
    "# Let's build a Simple calculator\n",
    "# 1. Addition\n",
    "# 2. Subtraction\n",
    "# 3. Multiplication\n",
    "# 4. Division\n",
    "\n",
    "# User inputs (Numbers)\n",
    "\n",
    "# User inputs (Operation) (1,2,3,4) (1- addition, 2- subtraction, 3- multiplication, 4- division)\n",
    "\n",
    "# Perform the operations using if and elif statements.\n",
    "\n",
    "# HINTS \n",
    "# Use the input function to take user inputs\n",
    "# 3 User inputs (number1, number2, operation)\n",
    "# Use if and elif statements to perform the operations\n",
    "# Else statement to handle invalid operations (Example: 20)\n",
    "# Check for division by zero also. (number 2 should not be zero) use if statement to check for this condition and print an error message. \n",
    "# and this should only happen if operation is division.\n",
    "\n",
    "# Advanced (Learnings: string comparison and boolean assignments) \n",
    "# Check for the operation using a string (Example: \"add\", \"sub\", \"mul\", \"div\")  \n",
    "# and assign the operation to a variable and use the variable in the if and elif statements.\n",
    "# Add other operations like modulo, exponentiation, floor division etc.\n",
    "\n",
    "print(\"Simple Calculator\")\n",
    "print(\"1. Addition\")\n",
    "print(\"2. Subtraction\")\n",
    "print(\"3. Multiplication\")\n",
    "print(\"4. Division\")\n",
    "\n",
    "print(\"You can perform these operations on 2 numbers \")\n",
    "\n",
    "number1 = float(input(\"Enter a number1: \"))\n",
    "number2 = float(input(\"Enter a number2: \"))\n",
    "operation = int(input(\"Enter the operation: \"))\n",
    "\n",
    "if operation == 1:\n",
    "    print(number1 + number2)\n",
    "elif operation == 2:\n",
    "    print(number1 - number2)\n",
    "elif operation == 3:\n",
    "    print(number1 * number2)\n",
    "elif operation == 4:\n",
    "    if number2 != 0:\n",
    "        print(number1 / number2)\n",
    "    else:\n",
    "        print(\"Number 2 should not be zero\")\n",
    "elif operation == 5:\n",
    "    print(number1 % number2)\n",
    "elif operation == 6:\n",
    "    print(number1 ** number2)\n",
    "else:\n",
    "    print(\"Invalid Operation\")\n"
   ]
  },
  {
   "cell_type": "markdown",
   "metadata": {},
   "source": [
    "## CLASS 2: Lists and For Loops "
   ]
  },
  {
   "cell_type": "code",
   "execution_count": 72,
   "metadata": {},
   "outputs": [],
   "source": [
    "# Data structures\n",
    "\n",
    "# Lists\n",
    "\n",
    "ListB = [1,2,3,4,5] # List of numbers\n",
    "\n",
    "# Accessing elements in a list\n",
    "#  Python is a zero based index language\n",
    "ListB[0]\n",
    "\n",
    "# Slicing\n",
    "ListB[1:3]\n",
    "ListB[3:]\n",
    "ListB[:3]\n",
    "\n",
    "# Modifying elements in a list\n",
    "ListB[0] = 10"
   ]
  },
  {
   "cell_type": "code",
   "execution_count": 49,
   "metadata": {},
   "outputs": [],
   "source": [
    "## ListB[#index]= value\n",
    "\n",
    "# Adding elements to a list\n",
    "ListB.append(6)"
   ]
  },
  {
   "cell_type": "code",
   "execution_count": 85,
   "metadata": {},
   "outputs": [
    {
     "data": {
      "text/plain": [
       "10"
      ]
     },
     "execution_count": 85,
     "metadata": {},
     "output_type": "execute_result"
    }
   ],
   "source": [
    "ListB.append(7)\n",
    "# ListB.clear()\n",
    "ListB.count(7)"
   ]
  },
  {
   "cell_type": "code",
   "execution_count": 90,
   "metadata": {},
   "outputs": [],
   "source": [
    "ListB.index(7)\n",
    "ListB.insert(3, 100)\n",
    "ListB.pop()"
   ]
  },
  {
   "cell_type": "code",
   "execution_count": 111,
   "metadata": {},
   "outputs": [
    {
     "data": {
      "text/plain": [
       "[1, 5, 6, 7, 3, 4, 2, 8, 9, 10]"
      ]
     },
     "execution_count": 111,
     "metadata": {},
     "output_type": "execute_result"
    }
   ],
   "source": [
    "A = [1,5, 6, 7,3 ,4 ,2, 8, 9, 10]\n",
    "A"
   ]
  },
  {
   "cell_type": "code",
   "execution_count": 101,
   "metadata": {},
   "outputs": [],
   "source": [
    "A.reverse()"
   ]
  },
  {
   "cell_type": "code",
   "execution_count": 105,
   "metadata": {},
   "outputs": [],
   "source": [
    "A.sort(reverse=True)"
   ]
  },
  {
   "cell_type": "code",
   "execution_count": 112,
   "metadata": {},
   "outputs": [],
   "source": [
    "A.sort(reverse=True)"
   ]
  },
  {
   "cell_type": "code",
   "execution_count": 113,
   "metadata": {},
   "outputs": [
    {
     "data": {
      "text/plain": [
       "[10, 9, 8, 7, 6, 5, 4, 3, 2, 1]"
      ]
     },
     "execution_count": 113,
     "metadata": {},
     "output_type": "execute_result"
    }
   ],
   "source": [
    "A"
   ]
  },
  {
   "cell_type": "code",
   "execution_count": 31,
   "metadata": {},
   "outputs": [
    {
     "data": {
      "text/plain": [
       "[1, 2]"
      ]
     },
     "execution_count": 31,
     "metadata": {},
     "output_type": "execute_result"
    }
   ],
   "source": [
    "ListM = [[1,2], [3,4]] # Nested List\n",
    "ListM[0]"
   ]
  },
  {
   "cell_type": "code",
   "execution_count": 115,
   "metadata": {},
   "outputs": [
    {
     "data": {
      "text/plain": [
       "[100, 10, 10, 100, 2, 3, 4, 5, 7, 7, 7, 7, 7, 7, 7, 7, 7]"
      ]
     },
     "execution_count": 115,
     "metadata": {},
     "output_type": "execute_result"
    }
   ],
   "source": [
    "ListB"
   ]
  },
  {
   "cell_type": "code",
   "execution_count": 120,
   "metadata": {},
   "outputs": [
    {
     "data": {
      "text/plain": [
       "[100, 10, 10, 100, 2, 3, 4, 5, 7, 7, 7, 7, 7, 7, 7, 7, 7]"
      ]
     },
     "execution_count": 120,
     "metadata": {},
     "output_type": "execute_result"
    }
   ],
   "source": [
    "ListB"
   ]
  },
  {
   "cell_type": "code",
   "execution_count": 118,
   "metadata": {},
   "outputs": [
    {
     "name": "stdout",
     "output_type": "stream",
     "text": [
      "10000\n",
      "100\n",
      "100\n",
      "10000\n",
      "4\n",
      "9\n",
      "16\n",
      "25\n",
      "49\n",
      "49\n",
      "49\n",
      "49\n",
      "49\n",
      "49\n",
      "49\n",
      "49\n",
      "49\n"
     ]
    }
   ],
   "source": [
    "# FOR LOOP\n",
    "\n",
    "# square all the elements in the list\n",
    "for i in ListB:\n",
    "    element = element * element\n",
    "\n",
    "    print(element)"
   ]
  },
  {
   "cell_type": "code",
   "execution_count": 129,
   "metadata": {},
   "outputs": [],
   "source": [
    "ListB.clear()\n",
    "ListB = [i for i in range(1, 11)]"
   ]
  },
  {
   "cell_type": "code",
   "execution_count": 132,
   "metadata": {},
   "outputs": [
    {
     "name": "stdout",
     "output_type": "stream",
     "text": [
      "1\n",
      "2\n",
      "3\n",
      "4\n",
      "5\n",
      "6\n",
      "7\n",
      "8\n",
      "9\n",
      "10\n"
     ]
    }
   ],
   "source": [
    "# iterate through the list and print the elements it only iterates when it is a for loop \n",
    "for i in range(1, 11):\n",
    "    print(i)"
   ]
  },
  {
   "cell_type": "code",
   "execution_count": 133,
   "metadata": {},
   "outputs": [
    {
     "data": {
      "text/plain": [
       "[1, 2, 3, 4, 5, 6, 7, 8, 9, 10]"
      ]
     },
     "execution_count": 133,
     "metadata": {},
     "output_type": "execute_result"
    }
   ],
   "source": [
    "ListB"
   ]
  },
  {
   "cell_type": "code",
   "execution_count": 134,
   "metadata": {},
   "outputs": [],
   "source": [
    "for i in range(len(ListB) - 1):\n",
    "    ListB[i] = ListB[i + 1] * ListB[i]"
   ]
  },
  {
   "cell_type": "code",
   "execution_count": 136,
   "metadata": {},
   "outputs": [],
   "source": [
    "List = [\"Apple\", \"Banana\", \"Cherry\"]"
   ]
  },
  {
   "cell_type": "code",
   "execution_count": 139,
   "metadata": {},
   "outputs": [],
   "source": [
    "List.append('Guava')"
   ]
  },
  {
   "cell_type": "code",
   "execution_count": 141,
   "metadata": {},
   "outputs": [
    {
     "data": {
      "text/plain": [
       "'Guava'"
      ]
     },
     "execution_count": 141,
     "metadata": {},
     "output_type": "execute_result"
    }
   ],
   "source": [
    "List.pop()"
   ]
  },
  {
   "cell_type": "code",
   "execution_count": 142,
   "metadata": {},
   "outputs": [
    {
     "data": {
      "text/plain": [
       "['Apple', 'Banana', 'Cherry']"
      ]
     },
     "execution_count": 142,
     "metadata": {},
     "output_type": "execute_result"
    }
   ],
   "source": [
    "List"
   ]
  },
  {
   "cell_type": "code",
   "execution_count": 135,
   "metadata": {},
   "outputs": [
    {
     "data": {
      "text/plain": [
       "[2, 6, 12, 20, 30, 42, 56, 72, 90, 10]"
      ]
     },
     "execution_count": 135,
     "metadata": {},
     "output_type": "execute_result"
    }
   ],
   "source": [
    "ListB"
   ]
  },
  {
   "cell_type": "code",
   "execution_count": null,
   "metadata": {},
   "outputs": [],
   "source": [
    "range(1, 10)"
   ]
  },
  {
   "cell_type": "code",
   "execution_count": 152,
   "metadata": {},
   "outputs": [],
   "source": [
    "oddNumbers = []\n",
    "for i in range(1, 10, 2): # Range function (start, end, step)\n",
    "    oddNumbers.append(i+1)"
   ]
  },
  {
   "cell_type": "code",
   "execution_count": 153,
   "metadata": {},
   "outputs": [
    {
     "data": {
      "text/plain": [
       "[2, 4, 6, 8, 10]"
      ]
     },
     "execution_count": 153,
     "metadata": {},
     "output_type": "execute_result"
    }
   ],
   "source": [
    "oddNumbers"
   ]
  },
  {
   "cell_type": "code",
   "execution_count": 186,
   "metadata": {},
   "outputs": [],
   "source": [
    "List.append('Apple')"
   ]
  },
  {
   "cell_type": "code",
   "execution_count": 188,
   "metadata": {},
   "outputs": [],
   "source": [
    "List.insert(2, 'Orange')"
   ]
  },
  {
   "cell_type": "code",
   "execution_count": 191,
   "metadata": {},
   "outputs": [],
   "source": [
    "List.remove('Orange')"
   ]
  },
  {
   "cell_type": "code",
   "execution_count": 193,
   "metadata": {},
   "outputs": [],
   "source": [
    "orangePresent = False\n",
    "\n",
    "for fruit in List:\n",
    "    if fruit != \"Orange\":\n",
    "        pass\n",
    "    else:\n",
    "        orangePresent = True\n",
    "        break # Breaks the loop\n",
    "\n",
    "if not(orangePresent):\n",
    "    List.append('Orange')\n",
    "        "
   ]
  },
  {
   "cell_type": "code",
   "execution_count": 194,
   "metadata": {},
   "outputs": [
    {
     "data": {
      "text/plain": [
       "['Banana',\n",
       " 'Cherry',\n",
       " 'Apple',\n",
       " 'Apple',\n",
       " 'Apple',\n",
       " 'Apple',\n",
       " 'Apple',\n",
       " 'Apple',\n",
       " 'Apple',\n",
       " 'Orange']"
      ]
     },
     "execution_count": 194,
     "metadata": {},
     "output_type": "execute_result"
    }
   ],
   "source": [
    "List"
   ]
  },
  {
   "cell_type": "code",
   "execution_count": 180,
   "metadata": {},
   "outputs": [],
   "source": [
    "i = 0 \n",
    "\n",
    "for j in range(10):\n",
    "    if i > 0: \n",
    "        print(\"Positive\")"
   ]
  },
  {
   "cell_type": "code",
   "execution_count": 178,
   "metadata": {},
   "outputs": [],
   "source": [
    "i = i + 2"
   ]
  },
  {
   "cell_type": "code",
   "execution_count": 175,
   "metadata": {},
   "outputs": [],
   "source": [
    "List = List[:3] # List slicing "
   ]
  },
  {
   "cell_type": "code",
   "execution_count": 176,
   "metadata": {},
   "outputs": [
    {
     "data": {
      "text/plain": [
       "['Banana', 'Cherry', 'Apple']"
      ]
     },
     "execution_count": 176,
     "metadata": {},
     "output_type": "execute_result"
    }
   ],
   "source": [
    "List"
   ]
  },
  {
   "cell_type": "code",
   "execution_count": 165,
   "metadata": {},
   "outputs": [
    {
     "ename": "AttributeError",
     "evalue": "'list' object has no attribute 'unique'",
     "output_type": "error",
     "traceback": [
      "\u001b[0;31m---------------------------------------------------------------------------\u001b[0m",
      "\u001b[0;31mAttributeError\u001b[0m                            Traceback (most recent call last)",
      "Cell \u001b[0;32mIn[165], line 1\u001b[0m\n\u001b[0;32m----> 1\u001b[0m \u001b[43mList\u001b[49m\u001b[38;5;241;43m.\u001b[39;49m\u001b[43munique\u001b[49m()\n",
      "\u001b[0;31mAttributeError\u001b[0m: 'list' object has no attribute 'unique'"
     ]
    }
   ],
   "source": []
  },
  {
   "cell_type": "code",
   "execution_count": 211,
   "metadata": {},
   "outputs": [],
   "source": [
    "Numbers = [1,2,3,4,5,6,7,8,9,10]"
   ]
  },
  {
   "cell_type": "code",
   "execution_count": 214,
   "metadata": {},
   "outputs": [],
   "source": [
    "# List Comprehension\n",
    "NewNumbers = [i*2 for i in Numbers]"
   ]
  },
  {
   "cell_type": "code",
   "execution_count": 215,
   "metadata": {},
   "outputs": [
    {
     "data": {
      "text/plain": [
       "[2, 4, 6, 8, 10, 12, 14, 16, 18, 20]"
      ]
     },
     "execution_count": 215,
     "metadata": {},
     "output_type": "execute_result"
    }
   ],
   "source": [
    "NewNumbers"
   ]
  },
  {
   "cell_type": "code",
   "execution_count": 209,
   "metadata": {},
   "outputs": [],
   "source": [
    "Numbers = [1,2,3,4,5,6,7,8,9,10]\n",
    "\n",
    "# Print the even numbers in the list\n",
    "for i in range(len(Numbers)):\n",
    "    Numbers[i] = Numbers[i] * 2"
   ]
  },
  {
   "cell_type": "code",
   "execution_count": 210,
   "metadata": {},
   "outputs": [
    {
     "data": {
      "text/plain": [
       "[2, 4, 6, 8, 10, 12, 14, 16, 18, 20]"
      ]
     },
     "execution_count": 210,
     "metadata": {},
     "output_type": "execute_result"
    }
   ],
   "source": [
    "Numbers"
   ]
  },
  {
   "cell_type": "code",
   "execution_count": 221,
   "metadata": {},
   "outputs": [],
   "source": [
    "# Nested List with list comprehension \n",
    "List_of_numbers = [[i*2 for i in Numbers], [i*3 for i in Numbers], [i*4 for i in Numbers]] "
   ]
  },
  {
   "cell_type": "code",
   "execution_count": 217,
   "metadata": {},
   "outputs": [
    {
     "data": {
      "text/plain": [
       "2"
      ]
     },
     "execution_count": 217,
     "metadata": {},
     "output_type": "execute_result"
    }
   ],
   "source": [
    "len(List_of_numbers)"
   ]
  },
  {
   "cell_type": "code",
   "execution_count": 202,
   "metadata": {},
   "outputs": [
    {
     "data": {
      "text/plain": [
       "4"
      ]
     },
     "execution_count": 202,
     "metadata": {},
     "output_type": "execute_result"
    }
   ],
   "source": [
    "len(List_of_numbers) "
   ]
  },
  {
   "cell_type": "code",
   "execution_count": 222,
   "metadata": {},
   "outputs": [
    {
     "name": "stdout",
     "output_type": "stream",
     "text": [
      "[[2, 4, 6, 8, 10, 12, 14, 16, 18, 20], [3, 6, 9, 12, 15, 18, 21, 24, 27, 30], [4, 8, 12, 16, 20, 24, 28, 32, 36, 40]]\n"
     ]
    }
   ],
   "source": [
    "print(List_of_numbers)"
   ]
  },
  {
   "cell_type": "code",
   "execution_count": 244,
   "metadata": {},
   "outputs": [],
   "source": [
    "array = [[1,2,3,4,5,6,7,8,9], [10,20,30,40,50,60,70,80,90], [100, 200, 300, 400, 500, 600, 700, 800, 900]]"
   ]
  },
  {
   "cell_type": "code",
   "execution_count": 245,
   "metadata": {},
   "outputs": [
    {
     "data": {
      "text/plain": [
       "[[1, 2, 3, 4, 5, 6, 7, 8, 9],\n",
       " [10, 20, 30, 40, 50, 60, 70, 80, 90],\n",
       " [100, 200, 300, 400, 500, 600, 700, 800, 900]]"
      ]
     },
     "execution_count": 245,
     "metadata": {},
     "output_type": "execute_result"
    }
   ],
   "source": [
    "array"
   ]
  },
  {
   "cell_type": "code",
   "execution_count": 250,
   "metadata": {},
   "outputs": [
    {
     "name": "stdout",
     "output_type": "stream",
     "text": [
      "1\n"
     ]
    }
   ],
   "source": [
    "for i in range(1):\n",
    "    #[1,2,3,4,5,6,7,8,9]\n",
    "    for j in range(1):\n",
    "        # [1]\n",
    "        print(array[i][j])"
   ]
  },
  {
   "cell_type": "code",
   "execution_count": 243,
   "metadata": {},
   "outputs": [
    {
     "name": "stdout",
     "output_type": "stream",
     "text": [
      "1\n",
      "2\n",
      "3\n"
     ]
    }
   ],
   "source": [
    "# Nested FOR LOOP\n",
    "for i in range(len(array)):\n",
    "    # index of the first loop\n",
    "    for j in range(len(array[i])):\n",
    "        # j is the index of the second loop\n",
    "        print(array[i][j])\n",
    "    \n",
    "    break \n",
    "    "
   ]
  },
  {
   "cell_type": "code",
   "execution_count": 237,
   "metadata": {},
   "outputs": [
    {
     "name": "stdout",
     "output_type": "stream",
     "text": [
      "1\n"
     ]
    }
   ],
   "source": [
    "print(array[0][0])"
   ]
  },
  {
   "cell_type": "code",
   "execution_count": null,
   "metadata": {},
   "outputs": [],
   "source": [
    "# Excercise \n",
    "# 1. Create a list of numbers from 1 to 100\n",
    "# 2. Print the even numbers in the list (For Loop)\n",
    "# 3. Print the odd numbers in the list  (For Loop)\n",
    "# 4. Print the numbers divisible by 3 (List Compreshension)"
   ]
  },
  {
   "cell_type": "markdown",
   "metadata": {},
   "source": [
    "# List comprehension\n"
   ]
  },
  {
   "cell_type": "code",
   "execution_count": null,
   "metadata": {},
   "outputs": [],
   "source": []
  },
  {
   "cell_type": "code",
   "execution_count": 251,
   "metadata": {},
   "outputs": [],
   "source": [
    "# Lsit comprehension \n",
    "\n",
    "div3 = [i for i in range(1, 101) if i % 3 == 0]"
   ]
  },
  {
   "cell_type": "code",
   "execution_count": 252,
   "metadata": {},
   "outputs": [
    {
     "data": {
      "text/plain": [
       "[3,\n",
       " 6,\n",
       " 9,\n",
       " 12,\n",
       " 15,\n",
       " 18,\n",
       " 21,\n",
       " 24,\n",
       " 27,\n",
       " 30,\n",
       " 33,\n",
       " 36,\n",
       " 39,\n",
       " 42,\n",
       " 45,\n",
       " 48,\n",
       " 51,\n",
       " 54,\n",
       " 57,\n",
       " 60,\n",
       " 63,\n",
       " 66,\n",
       " 69,\n",
       " 72,\n",
       " 75,\n",
       " 78,\n",
       " 81,\n",
       " 84,\n",
       " 87,\n",
       " 90,\n",
       " 93,\n",
       " 96,\n",
       " 99]"
      ]
     },
     "execution_count": 252,
     "metadata": {},
     "output_type": "execute_result"
    }
   ],
   "source": [
    "div3"
   ]
  },
  {
   "cell_type": "code",
   "execution_count": null,
   "metadata": {},
   "outputs": [],
   "source": [
    "# DAY 3 (package management in conda)"
   ]
  },
  {
   "cell_type": "code",
   "execution_count": 1,
   "metadata": {},
   "outputs": [],
   "source": [
    "# DO IT IN TERMINAL \n",
    "# conda install numpy \n",
    "\n",
    "# NUMPY\n",
    "import numpy as np\n",
    "\n",
    "# Install these packages\n",
    "# PANDAS - Large data sets\n",
    "# MATPLOTLIB - Data Visualization\n",
    "\n"
   ]
  },
  {
   "cell_type": "code",
   "execution_count": 3,
   "metadata": {},
   "outputs": [],
   "source": [
    "#To use these packages in your code you need to import them.\n",
    "\n",
    "import numpy as np\n",
    "import pandas as pd\n",
    "import matplotlib.pyplot as plt\n",
    "\n",
    "# NUMPY\n",
    "# Numpy is a library for the Python programming language, adding support for large, multi-dimensional arrays and matrices, \n",
    "# along with a large collection of high-level mathematical functions to operate on these arrays.\n",
    "\n",
    "# NUMPY ARRAYS\n",
    "# Numpy arrays are a bit like Python lists, but still very much different at the same time.\n",
    "# Numpy arrays are faster and more efficient than Python lists.\n",
    "# Numpy arrays are more compact than Python lists.\n",
    "# Numpy arrays are more convenient than Python lists.\n",
    "# Numpy arrays are more efficient than Python lists.\n",
    "\n",
    "# NUMPY ARRAYS\n",
    "\n",
    "# 1D ARRAY/Matrix (1 row and n columns) \n",
    "\n",
    "array = np.array([1,2,3,4,5,6,7,8,9,10])\n",
    "\n",
    "# 2D ARRAY (n rows and m columns)\n",
    "array2 = np.array([[1,2,3,4,5,6,7,8,9,10], [11,12,13,14,15,16,17,18,19,20]])"
   ]
  },
  {
   "cell_type": "code",
   "execution_count": 5,
   "metadata": {},
   "outputs": [
    {
     "data": {
      "text/plain": [
       "array([[ 1,  2,  3,  4,  5,  6,  7,  8,  9, 10],\n",
       "       [11, 12, 13, 14, 15, 16, 17, 18, 19, 20]])"
      ]
     },
     "execution_count": 5,
     "metadata": {},
     "output_type": "execute_result"
    }
   ],
   "source": [
    "array\n",
    "array2\n",
    "\n"
   ]
  },
  {
   "cell_type": "code",
   "execution_count": 8,
   "metadata": {},
   "outputs": [
    {
     "data": {
      "text/plain": [
       "array([ 3,  6,  9, 12, 15, 18, 21, 24, 27, 30])"
      ]
     },
     "execution_count": 8,
     "metadata": {},
     "output_type": "execute_result"
    }
   ],
   "source": [
    "3 * array"
   ]
  },
  {
   "cell_type": "code",
   "execution_count": 11,
   "metadata": {},
   "outputs": [
    {
     "data": {
      "text/plain": [
       "array([ 1.,  2.,  3.,  4.,  5.,  6.,  7.,  8.,  9., 10.])"
      ]
     },
     "execution_count": 11,
     "metadata": {},
     "output_type": "execute_result"
    }
   ],
   "source": [
    "# np.dot(array, 3)\n",
    "# np.add(array, 3)\n",
    "# np.subtract(array, 3)\n",
    "# np.multiply(array, 3)\n",
    "# np.divide(array, 3)\n",
    "\n",
    "# Creates a new array with the elements\n",
    "np.linspace(1, 10, 10)\n",
    "\n",
    "# You need to use it in a for loop to print the elements\n",
    "range(1, 10)\n",
    "\n",
    "np.linspace(1, 10, 10)"
   ]
  },
  {
   "cell_type": "code",
   "execution_count": 15,
   "metadata": {},
   "outputs": [
    {
     "name": "stdout",
     "output_type": "stream",
     "text": [
      "[ 1.  2.  3.  4.  5.  6.  7.  8.  9. 10.]\n"
     ]
    }
   ],
   "source": [
    "import matplotlib.pyplot as plt\n",
    "\n",
    "linear_space = np.linspace(1, 10, 10)\n",
    "print(linear_space)"
   ]
  },
  {
   "cell_type": "code",
   "execution_count": 17,
   "metadata": {},
   "outputs": [
    {
     "data": {
      "text/plain": [
       "array([[ 1,  2,  3,  4,  5,  6,  7,  8,  9, 10],\n",
       "       [11, 12, 13, 14, 15, 16, 17, 18, 19, 20]])"
      ]
     },
     "execution_count": 17,
     "metadata": {},
     "output_type": "execute_result"
    }
   ],
   "source": [
    "array\n",
    "array2"
   ]
  },
  {
   "cell_type": "code",
   "execution_count": 25,
   "metadata": {},
   "outputs": [
    {
     "data": {
      "text/plain": [
       "<matplotlib.legend.Legend at 0x13e8ff520>"
      ]
     },
     "execution_count": 25,
     "metadata": {},
     "output_type": "execute_result"
    },
    {
     "data": {
      "image/png": "[encoded data removed]",
      "text/plain": [
       "<Figure size 640x480 with 1 Axes>"
      ]
     },
     "metadata": {},
     "output_type": "display_data"
    }
   ],
   "source": [
    "# plot(x,y)\n",
    "# Basic plot\n",
    "plt.plot(linear_space, linear_space*2, label='y=2x', linestyle='--', linewidth=2)\n",
    "plt.title('y=2x')\n",
    "plt.xlabel('x')\n",
    "plt.ylabel('y')\n",
    "plt.legend()"
   ]
  },
  {
   "cell_type": "code",
   "execution_count": 28,
   "metadata": {},
   "outputs": [
    {
     "ename": "TypeError",
     "evalue": "boxplot() got an unexpected keyword argument 'color'",
     "output_type": "error",
     "traceback": [
      "\u001b[0;31m---------------------------------------------------------------------------\u001b[0m",
      "\u001b[0;31mTypeError\u001b[0m                                 Traceback (most recent call last)",
      "Cell \u001b[0;32mIn[28], line 1\u001b[0m\n\u001b[0;32m----> 1\u001b[0m \u001b[43mplt\u001b[49m\u001b[38;5;241;43m.\u001b[39;49m\u001b[43mboxplot\u001b[49m\u001b[43m(\u001b[49m\u001b[43mlinear_space\u001b[49m\u001b[43m,\u001b[49m\u001b[43m \u001b[49m\u001b[43mlinear_space\u001b[49m\u001b[38;5;241;43m*\u001b[39;49m\u001b[38;5;241;43m2\u001b[39;49m\u001b[43m,\u001b[49m\u001b[43m \u001b[49m\u001b[43mcolor\u001b[49m\u001b[38;5;241;43m=\u001b[39;49m\u001b[38;5;124;43m'\u001b[39;49m\u001b[38;5;124;43mred\u001b[39;49m\u001b[38;5;124;43m'\u001b[39;49m\u001b[43m)\u001b[49m\n",
      "\u001b[0;31mTypeError\u001b[0m: boxplot() got an unexpected keyword argument 'color'"
     ]
    }
   ],
   "source": [
    "# Boxplot "
   ]
  },
  {
   "cell_type": "code",
   "execution_count": 55,
   "metadata": {},
   "outputs": [],
   "source": [
    "listA = [1,2,3,4,5,6,7,8,9,10]\n",
    "\n",
    "listB = [listA, listA]\n",
    "\n",
    "list_of_things = ['Banana', 'Apple', 'Orange', 'Grapes', 'Pineapple', 'Guava', 'Mango', 'Papaya', 'Watermelon', 'Kiwi']"
   ]
  },
  {
   "cell_type": "code",
   "execution_count": 35,
   "metadata": {},
   "outputs": [
    {
     "name": "stdout",
     "output_type": "stream",
     "text": [
      "Yellow\n",
      "Banana\n",
      "Red\n",
      "Apple\n",
      "Orange\n",
      "Grapes\n",
      "Pineapple\n",
      "Guava\n",
      "Mango\n",
      "Papaya\n",
      "Watermelon\n",
      "Kiwi\n"
     ]
    }
   ],
   "source": [
    "for fruit in list_of_things:\n",
    "    if fruit == 'Banana':\n",
    "        print(\"Yellow\")\n",
    "    elif fruit == 'Apple':\n",
    "        print(\"Red\")"
   ]
  },
  {
   "cell_type": "code",
   "execution_count": 56,
   "metadata": {},
   "outputs": [],
   "source": [
    "A = np.array(listB)"
   ]
  },
  {
   "cell_type": "code",
   "execution_count": 59,
   "metadata": {},
   "outputs": [
    {
     "data": {
      "text/plain": [
       "array([[ 2,  4,  6,  4,  5,  6,  7,  8,  9, 10],\n",
       "       [ 2,  4,  6,  4,  5,  6,  7,  8,  9, 10]])"
      ]
     },
     "execution_count": 59,
     "metadata": {},
     "output_type": "execute_result"
    }
   ],
   "source": [
    "A"
   ]
  },
  {
   "cell_type": "code",
   "execution_count": 54,
   "metadata": {},
   "outputs": [
    {
     "data": {
      "text/plain": [
       "array([[ 4,  8, 12],\n",
       "       [ 4,  8, 12]])"
      ]
     },
     "execution_count": 54,
     "metadata": {},
     "output_type": "execute_result"
    }
   ],
   "source": [
    "A"
   ]
  },
  {
   "cell_type": "code",
   "execution_count": 60,
   "metadata": {},
   "outputs": [
    {
     "data": {
      "text/plain": [
       "146"
      ]
     },
     "execution_count": 60,
     "metadata": {},
     "output_type": "execute_result"
    }
   ],
   "source": [
    "A[:,:3] = A[:,:3] * 2\n",
    "\n",
    "np.sum(A)"
   ]
  },
  {
   "cell_type": "code",
   "execution_count": 63,
   "metadata": {},
   "outputs": [
    {
     "data": {
      "text/plain": [
       "array([[ 4,  8, 12,  4,  5,  6,  7,  8,  9, 10],\n",
       "       [ 4,  8, 12,  4,  5,  6,  7,  8,  9, 10]])"
      ]
     },
     "execution_count": 63,
     "metadata": {},
     "output_type": "execute_result"
    }
   ],
   "source": [
    "A"
   ]
  },
  {
   "cell_type": "code",
   "execution_count": 64,
   "metadata": {},
   "outputs": [
    {
     "data": {
      "text/plain": [
       "12"
      ]
     },
     "execution_count": 64,
     "metadata": {},
     "output_type": "execute_result"
    }
   ],
   "source": [
    "np.argmax(A[0])\n",
    "np.max(A[0])\n",
    "\n",
    "# A[0] - first row\n",
    "# A[:,0] - first column"
   ]
  },
  {
   "cell_type": "code",
   "execution_count": null,
   "metadata": {},
   "outputs": [],
   "source": []
  },
  {
   "cell_type": "code",
   "execution_count": 74,
   "metadata": {},
   "outputs": [],
   "source": [
    "# Palindrome of numbers \n",
    "# 121, 12321, 1234321, 123454321\n",
    "\n",
    "pal = np.array([1,2,3,4,5,4,3,2,1])"
   ]
  },
  {
   "cell_type": "code",
   "execution_count": 75,
   "metadata": {},
   "outputs": [],
   "source": [
    "pal = np.array([pal, pal*2, pal*3, pal*4, pal*5, pal*6, pal*7, pal*8, pal*9, pal*10]) "
   ]
  },
  {
   "cell_type": "code",
   "execution_count": 77,
   "metadata": {},
   "outputs": [
    {
     "data": {
      "text/plain": [
       "array([[ 1,  2,  3,  4,  5,  4,  3,  2,  1],\n",
       "       [ 2,  4,  6,  8, 10,  8,  6,  4,  2],\n",
       "       [ 3,  6,  9, 12, 15, 12,  9,  6,  3],\n",
       "       [ 4,  8, 12, 16, 20, 16, 12,  8,  4],\n",
       "       [ 5, 10, 15, 20, 25, 20, 15, 10,  5],\n",
       "       [ 6, 12, 18, 24, 30, 24, 18, 12,  6],\n",
       "       [ 7, 14, 21, 28, 35, 28, 21, 14,  7],\n",
       "       [ 8, 16, 24, 32, 40, 32, 24, 16,  8],\n",
       "       [ 9, 18, 27, 36, 45, 36, 27, 18,  9],\n",
       "       [10, 20, 30, 40, 50, 40, 30, 20, 10]])"
      ]
     },
     "execution_count": 77,
     "metadata": {},
     "output_type": "execute_result"
    }
   ],
   "source": [
    "pal"
   ]
  },
  {
   "cell_type": "code",
   "execution_count": 87,
   "metadata": {},
   "outputs": [
    {
     "data": {
      "text/plain": [
       "(10, 9)"
      ]
     },
     "execution_count": 87,
     "metadata": {},
     "output_type": "execute_result"
    }
   ],
   "source": [
    "pal.shape\n",
    "\n"
   ]
  },
  {
   "cell_type": "code",
   "execution_count": 83,
   "metadata": {},
   "outputs": [
    {
     "name": "stdout",
     "output_type": "stream",
     "text": [
      "0\n",
      "4\n",
      "1\n",
      "4\n",
      "2\n",
      "4\n",
      "3\n",
      "4\n",
      "4\n",
      "4\n",
      "5\n",
      "4\n",
      "6\n",
      "4\n",
      "7\n",
      "4\n",
      "8\n",
      "4\n",
      "9\n",
      "4\n"
     ]
    }
   ],
   "source": [
    "# Get index of the maximum element in the 2D array\n",
    "np.max(pal)\n",
    "\n",
    "max = -9999 \n",
    "\n",
    "for i in range(len(pal)):\n",
    "    if np.max(pal[i]) > max:\n",
    "        max = np.max(pal[i])\n",
    "\n",
    "        print(i)\n",
    "        print(np.argmax(pal[i]))\n",
    "\n",
    "# Go through each row in the for loop \n",
    "# Find the max of each row\n",
    "# Compare it with the max variable\n",
    "# If it is greater than the max variable then assign the max variable to the max of the row\n",
    "        \n",
    "\n",
    "# Easier way to do this \n",
    "        \n",
    "        # Divide the number of argmax with number of elements in the first row (Row number)\n",
    "        # Modulus with the number of elements in the first row (element number)\n"
   ]
  },
  {
   "cell_type": "code",
   "execution_count": 84,
   "metadata": {},
   "outputs": [
    {
     "data": {
      "text/plain": [
       "85"
      ]
     },
     "execution_count": 84,
     "metadata": {},
     "output_type": "execute_result"
    }
   ],
   "source": [
    "np.argmax(pal)\n",
    "\n",
    "# 8 - 9th row \n",
    "# 4 - 5th row"
   ]
  },
  {
   "cell_type": "code",
   "execution_count": 98,
   "metadata": {},
   "outputs": [
    {
     "data": {
      "text/plain": [
       "array([ 1,  2,  3,  4,  5,  6,  7,  8,  9, 10])"
      ]
     },
     "execution_count": 98,
     "metadata": {},
     "output_type": "execute_result"
    }
   ],
   "source": [
    "array"
   ]
  },
  {
   "cell_type": "code",
   "execution_count": 101,
   "metadata": {},
   "outputs": [
    {
     "data": {
      "text/plain": [
       "(array([7, 8, 9]),)"
      ]
     },
     "execution_count": 101,
     "metadata": {},
     "output_type": "execute_result"
    }
   ],
   "source": [
    "store = np.where(array > 7)\n",
    "\n",
    "# # row number\n",
    "# store[0][0]\n",
    "\n",
    "# # Index number \n",
    "# store[1][0]\n",
    "\n",
    "\n",
    "\n",
    "store"
   ]
  },
  {
   "cell_type": "code",
   "execution_count": 103,
   "metadata": {},
   "outputs": [
    {
     "data": {
      "text/plain": [
       "array([ 1,  2,  3,  4,  5,  6,  7,  8,  9, 10])"
      ]
     },
     "execution_count": 103,
     "metadata": {},
     "output_type": "execute_result"
    }
   ],
   "source": []
  },
  {
   "cell_type": "code",
   "execution_count": 102,
   "metadata": {},
   "outputs": [
    {
     "data": {
      "text/plain": [
       "tuple"
      ]
     },
     "execution_count": 102,
     "metadata": {},
     "output_type": "execute_result"
    }
   ],
   "source": [
    "# Excercise\n",
    "# 1. Create a 2D array of numbers from 1 to 100 (10 elements in each row (10 x 10))\n",
    "# 2. Find the maximum element in the array\n",
    "# 3. Find the index of the maximum element in the array (basic indexing)\n",
    "# 4. Find the row number and column number of the maximum element in the array\n",
    "# 5. Find the sum of the array\n",
    "# 6. Find the mean of the array\n",
    "# 7. Find the standard deviation of the array\n",
    "# 8. Find the variance of the array\n",
    "# 9. Find the index of the maximum element in each row of the array (For loop)\n",
    "\n",
    "# I will give the shuffle of the array "
   ]
  },
  {
   "cell_type": "code",
   "execution_count": 120,
   "metadata": {},
   "outputs": [],
   "source": []
  },
  {
   "cell_type": "code",
   "execution_count": 18,
   "metadata": {},
   "outputs": [
    {
     "ename": "NameError",
     "evalue": "name 'array' is not defined",
     "output_type": "error",
     "traceback": [
      "\u001b[0;31m---------------------------------------------------------------------------\u001b[0m",
      "\u001b[0;31mNameError\u001b[0m                                 Traceback (most recent call last)",
      "Cell \u001b[0;32mIn[18], line 1\u001b[0m\n\u001b[0;32m----> 1\u001b[0m \u001b[43marray\u001b[49m\n",
      "\u001b[0;31mNameError\u001b[0m: name 'array' is not defined"
     ]
    }
   ],
   "source": [
    "array"
   ]
  },
  {
   "cell_type": "code",
   "execution_count": 112,
   "metadata": {},
   "outputs": [
    {
     "data": {
      "text/plain": [
       "array([10.,  5.,  2.,  7.,  6.,  1.,  4.,  8.,  9.,  3.])"
      ]
     },
     "execution_count": 112,
     "metadata": {},
     "output_type": "execute_result"
    }
   ],
   "source": [
    "# Shuffle the array\n",
    "import random\n",
    "# Assuming you have an array called 'array'\n",
    "random.shuffle(array)\n",
    "# OR \n",
    "random.sample(array, len(array))\n"
   ]
  },
  {
   "cell_type": "code",
   "execution_count": 138,
   "metadata": {},
   "outputs": [],
   "source": [
    "# Creation of a 2D array of numbers from 1 to 100 (10 elements in each row (10 x 10))\n",
    "array = np.linspace(1, 100, 100)\n"
   ]
  },
  {
   "cell_type": "code",
   "execution_count": 139,
   "metadata": {},
   "outputs": [],
   "source": [
    "# Random did not work on array elements so we converted it to a list and ran the random.shuffle function on the list and then converted it back to an array\n",
    "listA = array.tolist()\n",
    "\n",
    "random.shuffle(listA)"
   ]
  },
  {
   "cell_type": "code",
   "execution_count": 141,
   "metadata": {},
   "outputs": [],
   "source": [
    "# We are converting the list back to an array\n",
    "array = np.array(listA).reshape(10, 10)"
   ]
  },
  {
   "cell_type": "code",
   "execution_count": 147,
   "metadata": {},
   "outputs": [
    {
     "name": "stdout",
     "output_type": "stream",
     "text": [
      "MAX of the array : 100.0\n",
      "Index of the MAX element:  46\n",
      "Row and Column of the max : (array([4]), array([6]))\n",
      "Sum of the array: 5050.0\n",
      "Mean of the array : 50.5\n",
      "28.86607004772212\n",
      "833.25\n",
      "71.0\n",
      "0\n",
      "92.0\n",
      "3\n",
      "95.0\n",
      "5\n",
      "91.0\n",
      "8\n",
      "100.0\n",
      "6\n",
      "99.0\n",
      "7\n",
      "75.0\n",
      "4\n",
      "94.0\n",
      "8\n",
      "86.0\n",
      "0\n",
      "88.0\n",
      "2\n"
     ]
    }
   ],
   "source": [
    "# find the maximum element in the array \n",
    "print('MAX of the array :', np.max(array))\n",
    "\n",
    "# find the index of the maximum element in the array (basic indexing) \n",
    "print('Index of the MAX element: ', np.argmax(array)) \n",
    "\n",
    "# find the row number and column number of the maximum element in the array \n",
    "print('Row and Column of the max :', np.where(array == np.max(array)))\n",
    "# OR \n",
    "# Divide by length of the first row and modulus with length of the first row \n",
    "# print(np.argmax(array) // 10, np.argmax(array) % 10) \n",
    "\n",
    "# find the sum of the array\n",
    "print('Sum of the array:',np.sum(array))\n",
    "\n",
    "# find the mean of the array\n",
    "print('Mean of the array :',np.mean(array))\n",
    "\n",
    "# find the standard deviation of the array\n",
    "print(np.std(array))\n",
    "\n",
    "# find the variance of the array\n",
    "print(np.var(array))\n",
    "\n",
    "# find the index of the maximum element in each row of the array (For loop)\n",
    "for i in range(len(array)):\n",
    "    print(np.max(array[i]))\n",
    "    print(np.argmax(array[i]))\n",
    "\n",
    "\n"
   ]
  },
  {
   "cell_type": "code",
   "execution_count": null,
   "metadata": {},
   "outputs": [],
   "source": [
    "# np.where(temp < 70 and temp > 60)"
   ]
  },
  {
   "cell_type": "code",
   "execution_count": 142,
   "metadata": {},
   "outputs": [
    {
     "data": {
      "text/plain": [
       "array([[ 71.,  40.,  47.,  56.,  18.,  50.,  58.,  39.,  70.,  16.],\n",
       "       [ 61.,  27.,  76.,  92.,  15.,  65.,  21.,  49.,  22.,  79.],\n",
       "       [ 63.,  89.,   6.,  68.,   9.,  95.,  35.,   8.,  77.,  60.],\n",
       "       [ 46.,  59.,  69.,   7.,  90.,  85.,   1.,  45.,  91.,   2.],\n",
       "       [ 52.,  64.,  51.,  73.,  38.,  84., 100.,  25.,  53.,  96.],\n",
       "       [ 42.,  93.,  97.,  26.,  32.,  98.,  13.,  99.,  55.,  74.],\n",
       "       [ 67.,  33.,  43.,  41.,  75.,  29.,  34.,  20.,  66.,  48.],\n",
       "       [ 23.,  78.,  80.,   4.,  12.,  81.,   3.,  82.,  94.,  17.],\n",
       "       [ 86.,  54.,  11.,  62.,  24.,  14.,  72.,  31.,  36.,  44.],\n",
       "       [ 10.,  83.,  88.,  37.,   5.,  28.,  19.,  30.,  87.,  57.]])"
      ]
     },
     "execution_count": 142,
     "metadata": {},
     "output_type": "execute_result"
    }
   ],
   "source": [
    "array"
   ]
  },
  {
   "cell_type": "code",
   "execution_count": 2,
   "metadata": {},
   "outputs": [],
   "source": [
    "num = input(\"Enter 5 numbers :\")"
   ]
  },
  {
   "cell_type": "code",
   "execution_count": 8,
   "metadata": {},
   "outputs": [],
   "source": [
    "list_num = num.split(' ')\n",
    "\n",
    "# List comprehension\n",
    "list_num = [int(i) for i in list_num]\n",
    "\n",
    "# For loop \n",
    "# for i in range(len(list_num)):\n",
    "#     list_num[i] = int(list_num[i])\n",
    "\n"
   ]
  },
  {
   "cell_type": "code",
   "execution_count": 10,
   "metadata": {},
   "outputs": [],
   "source": [
    "import numpy as np\n",
    "\n",
    "list_num = np.array(list_num)"
   ]
  },
  {
   "cell_type": "code",
   "execution_count": 11,
   "metadata": {},
   "outputs": [
    {
     "data": {
      "text/plain": [
       "numpy.ndarray"
      ]
     },
     "execution_count": 11,
     "metadata": {},
     "output_type": "execute_result"
    }
   ],
   "source": [
    "type(list_num)"
   ]
  },
  {
   "cell_type": "code",
   "execution_count": 12,
   "metadata": {},
   "outputs": [],
   "source": [
    "list = []\n",
    "for i in range(5):\n",
    "    list.append(int(input(\"Enter a number: \")))"
   ]
  },
  {
   "cell_type": "code",
   "execution_count": 13,
   "metadata": {},
   "outputs": [
    {
     "data": {
      "text/plain": [
       "[10, 20, 30, 40, 50]"
      ]
     },
     "execution_count": 13,
     "metadata": {},
     "output_type": "execute_result"
    }
   ],
   "source": [
    "list = np.array(list)"
   ]
  },
  {
   "cell_type": "code",
   "execution_count": 15,
   "metadata": {},
   "outputs": [
    {
     "data": {
      "text/plain": [
       "2"
      ]
     },
     "execution_count": 15,
     "metadata": {},
     "output_type": "execute_result"
    }
   ],
   "source": [
    "# Length of a string\n",
    "len(['Hello', 'World'])"
   ]
  },
  {
   "cell_type": "code",
   "execution_count": 16,
   "metadata": {},
   "outputs": [
    {
     "name": "stdout",
     "output_type": "stream",
     "text": [
      "0\n",
      "1\n",
      "2\n",
      "3\n",
      "4\n"
     ]
    }
   ],
   "source": [
    "for i in range(len(list)):\n",
    "    print(i)"
   ]
  },
  {
   "cell_type": "code",
   "execution_count": 19,
   "metadata": {},
   "outputs": [
    {
     "data": {
      "text/plain": [
       "array([[0.04784064, 0.54344647, 0.09604182, 0.60362208, 0.36586176,\n",
       "        0.61464682, 0.68077035, 0.25162248, 0.01000913, 0.9346401 ],\n",
       "       [0.28279178, 0.53988225, 0.36438368, 0.13470243, 0.76704674,\n",
       "        0.55332   , 0.77132179, 0.49884616, 0.13159408, 0.34949529],\n",
       "       [0.10414697, 0.18995874, 0.15142638, 0.46466309, 0.52682774,\n",
       "        0.73265911, 0.22295587, 0.02796287, 0.18799311, 0.20251209],\n",
       "       [0.66989296, 0.52420884, 0.56908721, 0.12249333, 0.95309985,\n",
       "        0.95530127, 0.95533061, 0.65433764, 0.04100123, 0.02754045],\n",
       "       [0.05148645, 0.78584853, 0.34501409, 0.32315601, 0.27489478,\n",
       "        0.67512787, 0.5653111 , 0.03218568, 0.13397992, 0.28183888],\n",
       "       [0.57496842, 0.28216267, 0.77335286, 0.66561881, 0.13553606,\n",
       "        0.16613583, 0.1445911 , 0.54413976, 0.49894411, 0.77789243],\n",
       "       [0.70854059, 0.09757889, 0.43019   , 0.3420598 , 0.37776185,\n",
       "        0.08482899, 0.77999766, 0.13971317, 0.05680345, 0.35376747],\n",
       "       [0.56872862, 0.89304588, 0.81935316, 0.41615554, 0.29414627,\n",
       "        0.48907431, 0.77546382, 0.54021651, 0.57609964, 0.71697408],\n",
       "       [0.45772389, 0.55541215, 0.05152646, 0.3332097 , 0.33031955,\n",
       "        0.80812988, 0.25199484, 0.49113028, 0.59271824, 0.18293899],\n",
       "       [0.82431421, 0.76657601, 0.98074081, 0.36282221, 0.8862327 ,\n",
       "        0.26453222, 0.05899802, 0.03307925, 0.31341993, 0.4727364 ]])"
      ]
     },
     "execution_count": 19,
     "metadata": {},
     "output_type": "execute_result"
    }
   ],
   "source": [
    "import numpy as np\n",
    "\n",
    "# Create a random 10 by 10 array\n",
    "array = np.random.rand(10, 10)\n",
    "\n",
    "array\n"
   ]
  },
  {
   "cell_type": "code",
   "execution_count": 24,
   "metadata": {},
   "outputs": [
    {
     "name": "stdout",
     "output_type": "stream",
     "text": [
      "0.9346401041208615\n",
      "0.7713217889070738\n",
      "0.73265910640901\n",
      "0.9553306096991191\n",
      "0.7858485286718685\n"
     ]
    }
   ],
   "source": [
    "for i in range(5):\n",
    "    print(np.max(array[i]))"
   ]
  },
  {
   "cell_type": "code",
   "execution_count": null,
   "metadata": {},
   "outputs": [],
   "source": [
    "# Tuples, Sets, Dictionaries"
   ]
  },
  {
   "cell_type": "code",
   "execution_count": null,
   "metadata": {},
   "outputs": [],
   "source": [
    "# Mutable and Immutable Objects\n",
    "\n",
    "# Mutable - Can be changed after creation\n",
    "# Immutable - Cannot be changed after creation\n",
    "\n",
    "# list is a mutable object\n",
    "\n",
    "# String is an immutable object \n",
    "# Tuple is an immutable object\n",
    "\n"
   ]
  },
  {
   "cell_type": "code",
   "execution_count": 36,
   "metadata": {},
   "outputs": [
    {
     "name": "stdout",
     "output_type": "stream",
     "text": [
      "4371972336\n",
      "4371972624\n"
     ]
    }
   ],
   "source": [
    "# List \n",
    "\n",
    "print(id(list[0]))\n",
    "list[0] = 10\n",
    "print(id(list[0]))"
   ]
  },
  {
   "cell_type": "code",
   "execution_count": 34,
   "metadata": {},
   "outputs": [
    {
     "name": "stdout",
     "output_type": "stream",
     "text": [
      "4458992496\n",
      "4557826160\n"
     ]
    }
   ],
   "source": [
    "st = \"Hello\" \n",
    "print(id(st))\n",
    "st.upper()\n",
    "print(id(st.upper()))"
   ]
  },
  {
   "cell_type": "markdown",
   "metadata": {},
   "source": [
    "## Tuples, Sets and Dictionaries "
   ]
  },
  {
   "cell_type": "code",
   "execution_count": 46,
   "metadata": {},
   "outputs": [
    {
     "name": "stdout",
     "output_type": "stream",
     "text": [
      "1\n",
      "4\n",
      "7\n"
     ]
    }
   ],
   "source": [
    "# Tuple is a list that cannot be changed after creation\n",
    "\n",
    "# Tuple\n",
    "tup = (1,2,3,4,5,6,7,8,9,10)\n",
    "\n",
    "tup2 = ((1,2,3), (4,5,6), (7,8,9))\n",
    "\n",
    "\n",
    "for i,j,k in tup2: \n",
    "    print(i)"
   ]
  },
  {
   "cell_type": "code",
   "execution_count": 81,
   "metadata": {},
   "outputs": [
    {
     "data": {
      "text/plain": [
       "[30, 40, 50]"
      ]
     },
     "execution_count": 81,
     "metadata": {},
     "output_type": "execute_result"
    }
   ],
   "source": [
    "tup3 = (('Name 1', [30,  40 ,50]), # Row 0\n",
    "        ('Name 2', [40, 50 ,60]),  # Row 1 \n",
    "        ('Name 3', [50]))          # Row 2\n",
    "\n",
    "tup3[0][1]\n"
   ]
  },
  {
   "cell_type": "code",
   "execution_count": 79,
   "metadata": {},
   "outputs": [],
   "source": [
    "# Sets \n",
    "# Sets are unordered collections of unique elements. \n",
    "# Sets are used for membership testing and eliminating duplicate entries.\n",
    "\n",
    "\n",
    "\n",
    "setA = {'Carrots', 'Cabbage', 'Peas', 'Tomato'} # Vegetable\n",
    "setB = {'Apple', 'Banana', 'Cherry'} # Fruits\n",
    "disjoint = setA.isdisjoint(setB) # True or False\n"
   ]
  },
  {
   "cell_type": "code",
   "execution_count": 62,
   "metadata": {},
   "outputs": [],
   "source": [
    "setA.add('Potato')\n",
    "setA.remove('Cabbage')"
   ]
  },
  {
   "cell_type": "code",
   "execution_count": 73,
   "metadata": {},
   "outputs": [],
   "source": [
    "setA.union(setB)\n",
    "trasition_set = setA.union(setB) "
   ]
  },
  {
   "cell_type": "code",
   "execution_count": null,
   "metadata": {},
   "outputs": [],
   "source": [
    "# Excercise \n",
    "# Tuples \n",
    "# 1. Create a list of subjects(5) and a list of marks(5) # Tuple 2D tuple (tuple inside a tuple)\n",
    "# 2. print out the subjects and marks using a for loop - calculate the CGPA of the student (CGPA = sum of marks/number of subjects)\n",
    "\n",
    "# Sets \n",
    "# 3. Create a set of subjects\n",
    "# 4. 3 sets of subjects (Engineering, Arts, mathematics) = 5 subjects in each set  (intersection between engineering and mathematics PDE,) )\n",
    "# 5. perform the union of the 3 sets of subjects \n",
    "# 6. perform the intersection of the 2 sets of subjects (need 3 in total) \n",
    "# 7. print them out\n",
    "\n",
    "# Engineering = {'Maths', 'Physics', 'Chemistry', 'Statistics', 'English'}    \n",
    "# Arts = {'History', 'Geography', 'English', 'Political Science', 'Economics'} \n",
    "# Mathematics = {'Maths', 'Compsci', 'PDE', 'Topology', 'Statistics'}\n"
   ]
  },
  {
   "cell_type": "code",
   "execution_count": 108,
   "metadata": {},
   "outputs": [
    {
     "name": "stdout",
     "output_type": "stream",
     "text": [
      "2.8000000000000003\n"
     ]
    }
   ],
   "source": [
    "# Tuples \n",
    "tup = (('Maths', 90), ('Physics', 80), ('Chemistry', 70), ('Biology', 60), ('English', 50)) # Tuple 2D tuple (tuple inside a tuple) \n",
    "CGPA = 0 \n",
    "for i,j in tup:\n",
    "    CGPA = CGPA + j \n",
    "\n",
    "print(CGPA/len(tup)* 0.04)\n",
    "\n",
    "setA = {'Maths', 'Physics', 'Chemistry', 'Biology', 'English'}\n",
    "setB = {'Maths', 'Physics', 'Chemistry'}\n",
    "setC = {'Maths', 'Physics', 'Biology'}\n",
    "setD = {'Maths', 'Physics', 'English'}\n",
    "setE = {'Physics', 'Chemistry', 'Biology'}\n",
    "\n",
    "unionset = setA.union(setB, setC, setD, setE) \n",
    "intersectionset = unionset.intersection(setB, setC, setD)\n",
    "# Sets \n"
   ]
  },
  {
   "cell_type": "code",
   "execution_count": 101,
   "metadata": {},
   "outputs": [
    {
     "ename": "NameError",
     "evalue": "name 'intersectionset' is not defined",
     "output_type": "error",
     "traceback": [
      "\u001b[0;31m---------------------------------------------------------------------------\u001b[0m",
      "\u001b[0;31mNameError\u001b[0m                                 Traceback (most recent call last)",
      "Cell \u001b[0;32mIn[101], line 9\u001b[0m\n\u001b[1;32m      7\u001b[0m unionset \u001b[38;5;241m=\u001b[39m Engineering\u001b[38;5;241m.\u001b[39munion(Arts, Mathematics) \n\u001b[1;32m      8\u001b[0m intersectionset1 \u001b[38;5;241m=\u001b[39m Engineering\u001b[38;5;241m.\u001b[39mintersection(Mathematics) \n\u001b[0;32m----> 9\u001b[0m \u001b[38;5;28mprint\u001b[39m(\u001b[43mintersectionset\u001b[49m) \n\u001b[1;32m     10\u001b[0m \u001b[38;5;28mprint\u001b[39m(unionset)\n",
      "\u001b[0;31mNameError\u001b[0m: name 'intersectionset' is not defined"
     ]
    }
   ],
   "source": [
    "# Sets \n",
    "# 3. Create a set of subjects \n",
    "Engineering = {'Maths', 'Physics', 'Chemistry', 'Statistics', 'English'}    \n",
    "Arts = {'History', 'Geography', 'English', 'Political Science', 'Economics'} \n",
    "Mathematics = {'Maths', 'Compsci', 'PDE', 'Topology', 'Statistics'}\n",
    "\n",
    "unionset = Engineering.union(Arts, Mathematics) \n",
    "intersectionset1 = Engineering.intersection(Mathematics) \n",
    "intersectionset2 = Engineering.intersection(Arts) \n",
    "intersectionset3 = Mathematics.intersection(Arts) \n",
    "\n",
    "print(\"Intersection between Engineering and Mathematics: \", intersectionset1) \n",
    "print(intersectionset2) \n",
    "print(intersectionset3) \n",
    "print(unionset)"
   ]
  },
  {
   "cell_type": "code",
   "execution_count": 94,
   "metadata": {},
   "outputs": [
    {
     "name": "stdout",
     "output_type": "stream",
     "text": [
      "<class 'list'>\n",
      "<class 'tuple'>\n"
     ]
    }
   ],
   "source": [
    "# Covert list to a tuple \n",
    "my_list = [1, 2, 3, 4, 5]\n",
    "my_tuple = tuple(my_list)\n",
    "print(type(my_list))\n",
    "print(type(my_tuple))\n"
   ]
  },
  {
   "cell_type": "code",
   "execution_count": null,
   "metadata": {},
   "outputs": [],
   "source": [
    "# Dictionaries \n",
    "# Dictionaries are used to store data values in key:value pairs. \n",
    "\n",
    "# Create empty things \n",
    "list = [] \n",
    "list = list()\n",
    "\n",
    "\n",
    "string = \"\" \n",
    "string = str() \n",
    "\n",
    "set = {} # This wont work \n",
    "set = set() # This will work \n",
    "\n",
    "# Dictionary \n",
    "dict = {} # This will work "
   ]
  },
  {
   "cell_type": "code",
   "execution_count": 103,
   "metadata": {},
   "outputs": [],
   "source": [
    "student = {'Name': 'John', 'Age': 25, 'City': 'New York', 'subject': ['Maths', 'Physics', 'Chemistry', 'Statistics', 'English']} # Key value pair "
   ]
  },
  {
   "cell_type": "code",
   "execution_count": 107,
   "metadata": {},
   "outputs": [
    {
     "data": {
      "text/plain": [
       "dict_values(['John', 25, 'New York', ['Maths', 'Physics', 'Chemistry', 'Statistics', 'English']])"
      ]
     },
     "execution_count": 107,
     "metadata": {},
     "output_type": "execute_result"
    }
   ],
   "source": [
    "student.keys() # only keys \n",
    "student.values() # only values \n",
    "student.items() # Key value pair "
   ]
  },
  {
   "cell_type": "code",
   "execution_count": 112,
   "metadata": {},
   "outputs": [],
   "source": [
    "# Lists and tuple \n",
    "\n",
    "tup[0][1]\n",
    "\n",
    "# Dictionaries \n",
    "values = student.values()\n",
    "keys = student.keys() "
   ]
  },
  {
   "cell_type": "code",
   "execution_count": 123,
   "metadata": {},
   "outputs": [
    {
     "data": {
      "text/plain": [
       "30"
      ]
     },
     "execution_count": 123,
     "metadata": {},
     "output_type": "execute_result"
    }
   ],
   "source": [
    "# Example of dictionary \n",
    "\n",
    "# Create a dictionary of students and their marks\n",
    "students = {\n",
    "    'Alice': {'Maths': 30, 'Physics': 20, 'Chemistry': 50}\n",
    "}\n",
    "\n",
    "students['Alice']['Maths']"
   ]
  },
  {
   "cell_type": "code",
   "execution_count": 137,
   "metadata": {},
   "outputs": [],
   "source": [
    "students = {} \n",
    "\n",
    "student1 = {'Name': 'John', 'Age': 25, 'City': 'New York', 'subject': ['Maths', 'Physics', 'Chemistry', 'Statistics', 'English']} # Key value pair \n",
    "student2 = {'Name': 'Alice', 'Age': 25, 'City': 'New York', 'subject': ['Maths', 'Physics', 'Chemistry', 'Statistics', 'English']} # Key value pair\n",
    "student3 = {'Name': 'Alice', 'Age': 25, 'City': 'New York', 'subject': ['Maths', 'Physics', 'Chemistry', 'Statistics', 'English']} # Key value pair"
   ]
  },
  {
   "cell_type": "code",
   "execution_count": 126,
   "metadata": {},
   "outputs": [],
   "source": [
    "students.update({'John': student1, 'Alice': student2})"
   ]
  },
  {
   "cell_type": "code",
   "execution_count": 130,
   "metadata": {},
   "outputs": [],
   "source": [
    "student1.update({'Name': 'Jane', 'Age': 25, 'City': 'New York', 'subject': ['Maths', 'Physics', 'Chemistry', 'Statistics', 'English']})"
   ]
  },
  {
   "cell_type": "code",
   "execution_count": 138,
   "metadata": {},
   "outputs": [],
   "source": [
    "students.update({'John': student1})\n",
    "students.update({'Alice': student2})\n",
    "students.update({'Alice': student3})"
   ]
  },
  {
   "cell_type": "code",
   "execution_count": 140,
   "metadata": {},
   "outputs": [
    {
     "data": {
      "text/plain": [
       "dict_items([('John', {'Name': 'John', 'Age': 25, 'City': 'New York', 'subject': ['Maths', 'Physics', 'Chemistry', 'Statistics', 'English']}), ('Alice', {'Name': 'Alice', 'Age': 25, 'City': 'New York', 'subject': ['Maths', 'Physics', 'Chemistry', 'Statistics', 'English']})])"
      ]
     },
     "execution_count": 140,
     "metadata": {},
     "output_type": "execute_result"
    }
   ],
   "source": [
    "students.items()"
   ]
  },
  {
   "cell_type": "code",
   "execution_count": 155,
   "metadata": {},
   "outputs": [],
   "source": [
    "import numpy as np\n",
    "# How do we use these \n",
    "\n",
    "# Create an image 10 x 10 it spells letter O \n",
    "image = np.array([\n",
    "    [0, 0, 1, 1, 1, 0, 0],\n",
    "    [0, 1, 0, 0, 0, 1, 0],\n",
    "    [1, 0, 0, 0, 0, 0, 1],\n",
    "    [1, 0, 0, 0, 0, 0, 1],\n",
    "    [1, 0, 0, 0, 0, 0, 1],\n",
    "    [0, 1, 0, 0, 0, 1, 0],\n",
    "    [0, 0, 1, 1, 1, 0, 0]\n",
    "])\n",
    "\n",
    "image1 = np.array([\n",
    "    [0, 0, 0, 1, 0, 0, 0, 0, 0, 0],\n",
    "    [0, 0, 1, 1, 0, 0, 0, 0, 0, 0],\n",
    "    [0, 0, 0, 1, 0, 0, 0, 0, 0, 0],\n",
    "    [0, 0, 0, 1, 0, 0, 0, 0, 0, 0],\n",
    "    [0, 0, 0, 1, 0, 0, 0, 0, 0, 0],\n",
    "    [0, 0, 0, 1, 0, 0, 0, 0, 0, 0],\n",
    "    [0, 0, 0, 1, 0, 0, 0, 0, 0, 0],\n",
    "    [0, 0, 0, 1, 0, 0, 0, 0, 0, 0],\n",
    "    [0, 0, 0, 1, 0, 0, 0, 0, 0, 0],\n",
    "    [0, 0, 1, 1, 1, 1, 1, 0, 0, 0]\n",
    "])\n",
    "\n",
    "image2 = np.array([\n",
    "    [0, 1, 1, 1, 1, 0, 0],\n",
    "    [0, 0, 0, 0, 1, 0, 0],\n",
    "    [0, 0, 0, 0, 1, 0, 0],\n",
    "    [0, 0, 0, 1, 0, 0, 0],\n",
    "    [0, 0, 1, 0, 0, 0, 0],\n",
    "    [0, 1, 0, 0, 0, 0, 0],\n",
    "    [1, 1, 1, 1, 1, 1, 1]\n",
    "])\n",
    "\n",
    "\n",
    "\n",
    "\n",
    "data = {} \n",
    "\n",
    "data.update({'0': image})\n",
    "data.update({'1' : image1})\n",
    "data.update({'2': image2})\n",
    "\n",
    "\n"
   ]
  },
  {
   "cell_type": "code",
   "execution_count": 161,
   "metadata": {},
   "outputs": [
    {
     "data": {
      "image/png": "[encoded data removed]",
      "text/plain": [
       "<Figure size 640x480 with 1 Axes>"
      ]
     },
     "metadata": {},
     "output_type": "display_data"
    },
    {
     "data": {
      "image/png": "[encoded data removed]",
      "text/plain": [
       "<Figure size 640x480 with 1 Axes>"
      ]
     },
     "metadata": {},
     "output_type": "display_data"
    },
    {
     "data": {
      "image/png": "[encoded data removed]",
      "text/plain": [
       "<Figure size 640x480 with 1 Axes>"
      ]
     },
     "metadata": {},
     "output_type": "display_data"
    }
   ],
   "source": [
    "import matplotlib.pyplot as plt \n",
    "\n",
    "for key, value in data.items():\n",
    "    plt.imshow(value, cmap='Reds')\n",
    "    plt.title(key)\n",
    "    plt.show()"
   ]
  },
  {
   "cell_type": "markdown",
   "metadata": {},
   "source": [
    "### Excercise of dictionary \n",
    "\n",
    " Create a dictionary of cars \n",
    "\n",
    "1. Toyota Yaris \n",
    "2. Honda Civic \n",
    "\n",
    "Cars --> 'Car 1' and 'Car 2'\n",
    "\n",
    "Car1 and car2 are dictionaries \n",
    "\n",
    "Car1 need to have the make(Toyota), model(Yaris), year and color \n",
    "Car2 need to have the make(Honda), model(Civic), year and color \n",
    "\n",
    "\n",
    "Update the dictionary with Car3 \n",
    "Car 3 is a dictionary with make, model, year and color (Hyndai Accent)\n",
    "\n",
    "You got the color wrong for Car 2 it is not red it is blue 'Update the color of Car 2' \n"
   ]
  },
  {
   "cell_type": "code",
   "execution_count": 167,
   "metadata": {},
   "outputs": [
    {
     "name": "stdout",
     "output_type": "stream",
     "text": [
      "cars Dicitonary created... \n",
      "{'car1': {'Make': 'Toyota', 'Model': 'Yaris', 'Year': 2020, 'Color': 'red'}, 'car2': {'Make': 'Honda', 'Model': 'Civic', 'Year': 2022, 'Color': 'blue'}}\n",
      "\n",
      "\n",
      "3rd car Dicitonary created... \n",
      "{'Make': 'Hyundai', 'Model': 'Accent', 'Year': 2020, 'Color': 'purple'}\n",
      "\n",
      "\n",
      "cars Dicitonary updated with 3rd car... \n",
      "{'car1': {'Make': 'Toyota', 'Model': 'Yaris', 'Year': 2020, 'Color': 'red'}, 'car2': {'Make': 'Honda', 'Model': 'Civic', 'Year': 2022, 'Color': 'blue'}, 'car3': {'Make': 'Hyundai', 'Model': 'Accent', 'Year': 2020, 'Color': 'purple'}}\n",
      "\n",
      "\n",
      "Color of 2nd car updated to black. \n",
      "{'car1': {'Make': 'Toyota', 'Model': 'Yaris', 'Year': 2020, 'Color': 'red'}, 'car2': {'Make': 'Honda', 'Model': 'Civic', 'Year': 2022, 'Color': 'black'}, 'car3': {'Make': 'Hyundai', 'Model': 'Accent', 'Year': 2020, 'Color': 'purple'}}\n",
      "\n",
      "\n"
     ]
    }
   ],
   "source": [
    "# Excercise \n",
    "\n",
    "# Create a dictionary with 2 cars and their details (Make, Model, Year, Color) \n",
    "cars ={\n",
    "'car1' :{'Make': 'Toyota', 'Model': 'Yaris', 'Year': 2020, 'Color': 'red'}, \n",
    "'car2' :{'Make': 'Honda', 'Model': 'Civic', 'Year': 2022, 'Color': 'blue'} \n",
    "}\n",
    "print(\"cars Dicitonary created... \")\n",
    "print(cars) \n",
    "print(\"\\n\")\n",
    "\n",
    "# Create a 3rd dictionary \n",
    "car3 = {'Make': 'Hyundai', 'Model': 'Accent', 'Year': 2020, 'Color': 'purple'}\n",
    "print(\"3rd car Dicitonary created... \")\n",
    "print(car3)\n",
    "print(\"\\n\")\n",
    "\n",
    "# Update the dictionary with the 3rd car \n",
    "cars.update({'car3': car3})\n",
    "\n",
    "# Print the dictionary \n",
    "print(\"cars Dicitonary updated with 3rd car... \")\n",
    "print(cars) \n",
    "print(\"\\n\")\n",
    "\n",
    "# update the color of 2nd car to black \n",
    "cars['car2']['Color'] = 'black' \n",
    "\n",
    "# Print the dictionary\n",
    "print(\"Color of 2nd car updated to black. \")\n",
    "print(cars) \n",
    "print(\"\\n\")\n"
   ]
  }
 ],
 "metadata": {
  "kernelspec": {
   "display_name": "Python 3",
   "language": "python",
   "name": "python3"
  },
  "language_info": {
   "codemirror_mode": {
    "name": "ipython",
    "version": 3
   },
   "file_extension": ".py",
   "mimetype": "text/x-python",
   "name": "python",
   "nbconvert_exporter": "python",
   "pygments_lexer": "ipython3",
   "version": "3.10.12"
  }
 },
 "nbformat": 4,
 "nbformat_minor": 2
}

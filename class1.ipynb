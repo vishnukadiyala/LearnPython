{
 "cells": [
  {
   "cell_type": "code",
   "execution_count": 5,
   "metadata": {},
   "outputs": [
    {
     "name": "stdout",
     "output_type": "stream",
     "text": [
      "name\n",
      "NAME\n"
     ]
    }
   ],
   "source": [
    "# STRINGS \n",
    "name = \"name\"\n",
    "print(name)\n",
    "\n",
    "# UPPER CASE (Functions)\n",
    "print(name.upper())"
   ]
  },
  {
   "cell_type": "code",
   "execution_count": 6,
   "metadata": {},
   "outputs": [
    {
     "name": "stdout",
     "output_type": "stream",
     "text": [
      "Hello World\n"
     ]
    }
   ],
   "source": [
    "# Concatenate\n",
    "a = \"Hello\"\n",
    "space = \" \"\n",
    "b = \"World\"\n",
    "print(a + space + b)"
   ]
  },
  {
   "cell_type": "code",
   "execution_count": 8,
   "metadata": {},
   "outputs": [
    {
     "name": "stdout",
     "output_type": "stream",
     "text": [
      "You entered: 20\n"
     ]
    }
   ],
   "source": [
    "# INPUTS  \n",
    "number = input(\"Enter a number: \")\n",
    "\n",
    "# Print the number\n",
    "print(\"You entered: \"+number)"
   ]
  },
  {
   "cell_type": "code",
   "execution_count": null,
   "metadata": {},
   "outputs": [],
   "source": []
  },
  {
   "cell_type": "markdown",
   "metadata": {},
   "source": [
    "TEXT "
   ]
  },
  {
   "cell_type": "code",
   "execution_count": null,
   "metadata": {},
   "outputs": [],
   "source": [
    "# Arithematic Operations\n",
    "# Addition +\n",
    "# subtraction -\n",
    "# multiplication *\n",
    "# division /\n",
    "# modulo %\n",
    "# exponentiation **\n",
    "# floor division //"
   ]
  },
  {
   "cell_type": "code",
   "execution_count": 14,
   "metadata": {},
   "outputs": [
    {
     "name": "stdout",
     "output_type": "stream",
     "text": [
      "30.2 -10.2\n"
     ]
    }
   ],
   "source": [
    "# Example\n",
    "\n",
    "a = 10 \n",
    "b = 20.2\n",
    "\n",
    "c = a + b # Addition\n",
    "d = a - b # Subtraction\n",
    "e = a * b # Multiplication\n",
    "f = a / b # Division\n",
    "\n",
    "print(c,d)\n"
   ]
  },
  {
   "cell_type": "code",
   "execution_count": 17,
   "metadata": {},
   "outputs": [
    {
     "name": "stdout",
     "output_type": "stream",
     "text": [
      "30.0\n"
     ]
    }
   ],
   "source": [
    "number1 = input(\"Enter a number1: \") # STRING\n",
    "number2 = input(\"Enter a number2: \")\n",
    "# STRING \n",
    "number1 = float(number1) # TYPE CASTING # NUMBER \n",
    "number2 = float(number2) # TYPE CASTING\n",
    "\n",
    "print(number1 + number2)"
   ]
  },
  {
   "cell_type": "markdown",
   "metadata": {},
   "source": []
  },
  {
   "cell_type": "code",
   "execution_count": 23,
   "metadata": {},
   "outputs": [
    {
     "name": "stdout",
     "output_type": "stream",
     "text": [
      "10.020\n"
     ]
    }
   ],
   "source": [
    "number1 = float(input(\"Enter a number1: \")) # STRING\n",
    "number2 = float(input(\"Enter a number2: \"))\n",
    "\n",
    "print(number1 + float(number2))"
   ]
  },
  {
   "cell_type": "code",
   "execution_count": 27,
   "metadata": {},
   "outputs": [
    {
     "name": "stdout",
     "output_type": "stream",
     "text": [
      "Addition : 30.0\n"
     ]
    }
   ],
   "source": [
    "#Experiment \n",
    "# 1. Create a program that takes two inputs and adds them together\n",
    "#perform the following operations\n",
    "# 2. Subtraction\n",
    "# 3. Multiplication\n",
    "# 4. Division\n",
    "# 5. Modulo %\n",
    "# 6. Exponentiation **\n",
    "# 7. Floor Division //\n",
    "\n",
    "# Example of floor division\n",
    "# 10 / 3 = 3.3333333333333335\n",
    "# 10 // 3 = 3\n",
    "# modulo\n",
    "# 10 % 3 = 1 # Remainder\n",
    "\n",
    "# print the results of each operation\n",
    "\n",
    "a = float(input(\"Enter a number1: \"))\n",
    "b = float(input(\"Enter a number2: \"))\n",
    "addition = a + b\n",
    "print(\"Addition :\", addition)\n"
   ]
  },
  {
   "cell_type": "code",
   "execution_count": 35,
   "metadata": {},
   "outputs": [
    {
     "name": "stdout",
     "output_type": "stream",
     "text": [
      "a is less than b\n",
      "20\n"
     ]
    }
   ],
   "source": [
    "# Conditional Statements\n",
    "# if\n",
    "# elif\n",
    "# else\n",
    "\n",
    "#Comparison Operators\n",
    "# > greater than\n",
    "# < less than\n",
    "# >= greater than or equal to\n",
    "# <= less than or equal to\n",
    "# == equal to\n",
    "# != not equal to\n",
    "\n",
    "\n",
    "# Example\n",
    "\n",
    "a = 10\n",
    "b = 20\n",
    "\n",
    "# IF STATEMENT \n",
    "# It evaluates the expression and executes the code block if the condition is True\n",
    "\n",
    "if a > b : # Expression that evaluates to True or False (Tab = 4 spaces)\n",
    "    ###################################################\n",
    "    print(\"a is greater than b\")\n",
    "    print(a)\n",
    "    # Multiple lines of code in the block\n",
    "    ###################################################\n",
    "\n",
    "elif a == b: # Else if\n",
    "    ###################################################\n",
    "    print(\"a is equal to b\")\n",
    "    print(a,b)\n",
    "    ###################################################\n",
    "else:\n",
    "    ###################################################\n",
    "    print(\"a is less than b\")\n",
    "    print(b)\n",
    "    ###################################################\n",
    "\n",
    "\n",
    "# C Programming Language start { } end\n"
   ]
  },
  {
   "cell_type": "code",
   "execution_count": 41,
   "metadata": {},
   "outputs": [
    {
     "name": "stdout",
     "output_type": "stream",
     "text": [
      "User Doesn't want to perform any operation\n"
     ]
    }
   ],
   "source": [
    "# USER INPUTS \n",
    "multiplication = False\n",
    "addition = False\n",
    "subtraction = False\n",
    "\n",
    "# bool()\n",
    "number1 = 20\n",
    "number2 = 20\n",
    "\n",
    "# Example \n",
    "# if the number 1 is greater than number 2 then perform the addition\n",
    "# if the number 1 is less than number 2 then perform the subtraction\n",
    "# if the number 1 is equal to number 2 then perform the multiplication\n",
    "# does user want to perform the addition, subtraction or multiplication\n",
    "# I will use boolean values to determine the operation to perform\n",
    "\n",
    "# Logical Expressions\n",
    "# and\n",
    "# or\n",
    "# not\n",
    "\n",
    "if(addition or subtraction or multiplication):\n",
    "    if number1 > number2:\n",
    "        if addition:\n",
    "            print(number1 + number2)\n",
    "        else:\n",
    "            print(\"User doesn't want to perform addition\")\n",
    "\n",
    "    elif number1 < number2:\n",
    "        if subtraction:\n",
    "            print(number1 - number2)\n",
    "        else:\n",
    "            print(\"User doesn't want to perform subtraction\")\n",
    "\n",
    "    elif number1 == number2:\n",
    "        if multiplication:\n",
    "            print(number1 * number2)\n",
    "        else:\n",
    "            print(\"User doesn't want to perform multiplication\")\n",
    "\n",
    "    else:\n",
    "        print(\"Invalid\")\n",
    "else:\n",
    "    print(\"User Doesn't want to perform any operation\")"
   ]
  },
  {
   "cell_type": "markdown",
   "metadata": {},
   "source": [
    "Calculator that performs 4 operations on two numbers: addition, subtraction, multiplication, and division. The calculator will display the result of the operation and the remainder of the division if the operation is division. The calculator will also display an error message if the operation is invalid. "
   ]
  },
  {
   "cell_type": "code",
   "execution_count": null,
   "metadata": {},
   "outputs": [],
   "source": [
    "# Let's build a Simple calculator\n",
    "# 1. Addition\n",
    "# 2. Subtraction\n",
    "# 3. Multiplication\n",
    "# 4. Division\n",
    "\n",
    "# User inputs (Numbers)\n",
    "\n",
    "# User inputs (Operation) (1,2,3,4) (1- addition, 2- subtraction, 3- multiplication, 4- division)\n",
    "\n",
    "# Perform the operations using if and elif statements.\n",
    "\n",
    "# HINTS \n",
    "# Use the input function to take user inputs\n",
    "# 3 User inputs (number1, number2, operation)\n",
    "# Use if and elif statements to perform the operations\n",
    "# Else statement to handle invalid operations (Example: 20)\n",
    "# Check for division by zero also. (number 2 should not be zero) use if statement to check for this condition and print an error message. \n",
    "# and this should only happen if operation is division.\n",
    "\n",
    "# Advanced (Learnings: string comparison and boolean assignments) \n",
    "# Check for the operation using a string (Example: \"add\", \"sub\", \"mul\", \"div\")  \n",
    "# and assign the operation to a variable and use the variable in the if and elif statements.\n",
    "# Add other operations like modulo, exponentiation, floor division etc.\n",
    "\n",
    "number1 = float(input(\"Enter a number1: \"))\n",
    "number2 = float(input(\"Enter a number2: \"))\n",
    "operation = input(\"Enter the operation: \")\n",
    "\n",
    "if operation == 1:\n",
    "    print(number1 + number2)\n",
    "elif operation == 2:\n",
    "    print(number1 - number2)\n",
    "elif operation == 3:\n",
    "    print(number1 * number2)\n",
    "elif operation == 4:\n",
    "    if number2 != 0:\n",
    "        print(number1 / number2)\n",
    "    else:\n",
    "        print(\"Number 2 should not be zero\")\n",
    "else:\n",
    "    print(\"Invalid Operation\")\n"
   ]
  }
 ],
 "metadata": {
  "kernelspec": {
   "display_name": "Python 3",
   "language": "python",
   "name": "python3"
  },
  "language_info": {
   "codemirror_mode": {
    "name": "ipython",
    "version": 3
   },
   "file_extension": ".py",
   "mimetype": "text/x-python",
   "name": "python",
   "nbconvert_exporter": "python",
   "pygments_lexer": "ipython3",
   "version": "3.9.6"
  }
 },
 "nbformat": 4,
 "nbformat_minor": 2
}

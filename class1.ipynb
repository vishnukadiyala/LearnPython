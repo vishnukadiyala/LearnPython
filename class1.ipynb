{
 "cells": [
  {
   "cell_type": "code",
   "execution_count": 5,
   "metadata": {},
   "outputs": [
    {
     "name": "stdout",
     "output_type": "stream",
     "text": [
      "name\n",
      "NAME\n"
     ]
    }
   ],
   "source": [
    "# STRINGS \n",
    "name = \"name\"\n",
    "print(name)\n",
    "\n",
    "# UPPER CASE (Functions)\n",
    "print(name.upper())"
   ]
  },
  {
   "cell_type": "code",
   "execution_count": 6,
   "metadata": {},
   "outputs": [
    {
     "name": "stdout",
     "output_type": "stream",
     "text": [
      "Hello World\n"
     ]
    }
   ],
   "source": [
    "# Concatenate\n",
    "a = \"Hello\"\n",
    "space = \" \"\n",
    "b = \"World\"\n",
    "print(a + space + b)"
   ]
  },
  {
   "cell_type": "code",
   "execution_count": 8,
   "metadata": {},
   "outputs": [
    {
     "name": "stdout",
     "output_type": "stream",
     "text": [
      "You entered: 20\n"
     ]
    }
   ],
   "source": [
    "# INPUTS  \n",
    "number = input(\"Enter a number: \")\n",
    "\n",
    "# Print the number\n",
    "print(\"You entered: \"+number)"
   ]
  },
  {
   "cell_type": "code",
   "execution_count": null,
   "metadata": {},
   "outputs": [],
   "source": []
  },
  {
   "cell_type": "markdown",
   "metadata": {},
   "source": [
    "TEXT "
   ]
  },
  {
   "cell_type": "code",
   "execution_count": null,
   "metadata": {},
   "outputs": [],
   "source": [
    "# Arithematic Operations\n",
    "# Addition +\n",
    "# subtraction -\n",
    "# multiplication *\n",
    "# division /\n",
    "# modulo %\n",
    "# exponentiation **\n",
    "# floor division //"
   ]
  },
  {
   "cell_type": "code",
   "execution_count": 14,
   "metadata": {},
   "outputs": [
    {
     "name": "stdout",
     "output_type": "stream",
     "text": [
      "30.2 -10.2\n"
     ]
    }
   ],
   "source": [
    "# Example\n",
    "\n",
    "a = 10 \n",
    "b = 20.2\n",
    "\n",
    "c = a + b # Addition\n",
    "d = a - b # Subtraction\n",
    "e = a * b # Multiplication\n",
    "f = a / b # Division\n",
    "\n",
    "print(c,d)\n"
   ]
  },
  {
   "cell_type": "code",
   "execution_count": 17,
   "metadata": {},
   "outputs": [
    {
     "name": "stdout",
     "output_type": "stream",
     "text": [
      "30.0\n"
     ]
    }
   ],
   "source": [
    "number1 = input(\"Enter a number1: \") # STRING\n",
    "number2 = input(\"Enter a number2: \")\n",
    "# STRING \n",
    "number1 = float(number1) # TYPE CASTING # NUMBER \n",
    "number2 = float(number2) # TYPE CASTING\n",
    "\n",
    "print(number1 + number2)"
   ]
  },
  {
   "cell_type": "markdown",
   "metadata": {},
   "source": []
  },
  {
   "cell_type": "code",
   "execution_count": 23,
   "metadata": {},
   "outputs": [
    {
     "name": "stdout",
     "output_type": "stream",
     "text": [
      "10.020\n"
     ]
    }
   ],
   "source": [
    "number1 = float(input(\"Enter a number1: \")) # STRING\n",
    "number2 = float(input(\"Enter a number2: \"))\n",
    "\n",
    "print(number1 + float(number2))"
   ]
  },
  {
   "cell_type": "code",
   "execution_count": 26,
   "metadata": {},
   "outputs": [
    {
     "ename": "TypeError",
     "evalue": "can only concatenate str (not \"float\") to str",
     "output_type": "error",
     "traceback": [
      "\u001b[0;31m---------------------------------------------------------------------------\u001b[0m",
      "\u001b[0;31mTypeError\u001b[0m                                 Traceback (most recent call last)",
      "Cell \u001b[0;32mIn[26], line 16\u001b[0m\n\u001b[1;32m     14\u001b[0m b \u001b[38;5;241m=\u001b[39m \u001b[38;5;28mfloat\u001b[39m(\u001b[38;5;28minput\u001b[39m(\u001b[38;5;124m\"\u001b[39m\u001b[38;5;124mEnter a number2: \u001b[39m\u001b[38;5;124m\"\u001b[39m))\n\u001b[1;32m     15\u001b[0m addition \u001b[38;5;241m=\u001b[39m a \u001b[38;5;241m+\u001b[39m b\n\u001b[0;32m---> 16\u001b[0m \u001b[38;5;28mprint\u001b[39m(\u001b[38;5;124;43m\"\u001b[39;49m\u001b[38;5;124;43mAddition :\u001b[39;49m\u001b[38;5;124;43m\"\u001b[39;49m\u001b[43m \u001b[49m\u001b[38;5;241;43m+\u001b[39;49m\u001b[43m \u001b[49m\u001b[43maddition\u001b[49m)\n",
      "\u001b[0;31mTypeError\u001b[0m: can only concatenate str (not \"float\") to str"
     ]
    }
   ],
   "source": [
    "#Experiment \n",
    "# 1. Create a program that takes two inputs and adds them together\n",
    "#perform the following operations\n",
    "# 2. Subtraction\n",
    "# 3. Multiplication\n",
    "# 4. Division\n",
    "# 5. Modulo %\n",
    "# 6. Exponentiation **\n",
    "# 7. Floor Division //\n",
    "\n",
    "# Example of floor division\n",
    "# 10 / 3 = 3.3333333333333335\n",
    "# 10 // 3 = 3\n",
    "# modulo\n",
    "# 10 % 3 = 1 # Remainder\n",
    "\n",
    "# print the results of each operation\n",
    "\n",
    "a = float(input(\"Enter a number1: \"))\n",
    "b = float(input(\"Enter a number2: \"))\n",
    "addition = a + b\n",
    "print(\"Addition :\", addition)\n"
   ]
  },
  {
   "cell_type": "code",
   "execution_count": null,
   "metadata": {},
   "outputs": [],
   "source": []
  }
 ],
 "metadata": {
  "kernelspec": {
   "display_name": "Python 3",
   "language": "python",
   "name": "python3"
  },
  "language_info": {
   "codemirror_mode": {
    "name": "ipython",
    "version": 3
   },
   "file_extension": ".py",
   "mimetype": "text/x-python",
   "name": "python",
   "nbconvert_exporter": "python",
   "pygments_lexer": "ipython3",
   "version": "3.9.6"
  }
 },
 "nbformat": 4,
 "nbformat_minor": 2
}

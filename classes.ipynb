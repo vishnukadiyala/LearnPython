{
 "cells": [
  {
   "cell_type": "code",
   "execution_count": null,
   "metadata": {},
   "outputs": [],
   "source": []
  },
  {
   "cell_type": "markdown",
   "metadata": {},
   "source": [
    "# Python Classes\n"
   ]
  },
  {
   "cell_type": "code",
   "execution_count": null,
   "metadata": {},
   "outputs": [],
   "source": [
    "# Basic definition of a class in Python \n",
    "\n"
   ]
  },
  {
   "cell_type": "code",
   "execution_count": 1,
   "metadata": {},
   "outputs": [],
   "source": [
    "# Variable declaration\n",
    "variable1 = 'Name'\n",
    "\n",
    "# Function declaration \n",
    "def function1():\n",
    "    print('Function 1')\n",
    "\n",
    "# Dictionary declaration \n",
    "dictionary1 = {'key1': 'value1'} \n",
    "\n",
    "# cars in dictionary    \n",
    "car1 = {'brand': 'Ford', 'model': 'Mustang', 'year': 1964} \n",
    "cars ={}\n",
    "cars['car1'] = car1  \n",
    "\n",
    "# List declaration \n",
    "list1 = ['item1', 'item2', 'item3'] # mutable object\n",
    "\n",
    "# Tuple declaration \n",
    "tuple1 = ('item1', 'item2', 'item3') #immutable object \n",
    "\n",
    "# Set declaration \n",
    "set1 = {'item1', 'item2', 'item3'} # mutable object "
   ]
  },
  {
   "cell_type": "code",
   "execution_count": 2,
   "metadata": {},
   "outputs": [
    {
     "data": {
      "text/plain": [
       "{'car1': {'brand': 'Ford', 'model': 'Mustang', 'year': 1964}}"
      ]
     },
     "execution_count": 2,
     "metadata": {},
     "output_type": "execute_result"
    }
   ],
   "source": [
    "cars"
   ]
  },
  {
   "cell_type": "code",
   "execution_count": 64,
   "metadata": {},
   "outputs": [],
   "source": [
    "# Classes \n",
    "\n",
    "# Data Structures\n",
    "\n",
    "\n",
    "name = 'John' \n",
    "\n",
    "#initialize the class \n",
    "class MyClass: # OBJECT \n",
    "    # function inside the class\n",
    "    def __init__(self, name, age): \n",
    "        self.name = name \n",
    "        self.age = age\n",
    "        self.x1 = 5\n",
    "        self.y1 = 10\n",
    "        self.x2 = 15\n",
    "        self.y2 = 20\n",
    "        # variable inside the class \n",
    "        # intilization of the class\n",
    "    \n",
    "    def print_name(self, inputs):                       # methods \n",
    "        print(\"Hello my name is \" + self.name + \" and I am \" + str(self.age) + \" years old\")\n",
    "    \n",
    "    def eucleadian_dist(self):\n",
    "        \"\"\"Calculate the distance between 2 points.\"\"\"\n",
    "        distance = ((self.x2 - self.x1)**2 + (self.y2 - self.y1)**2)**0.5\n",
    "        return distance\n",
    "\n"
   ]
  },
  {
   "cell_type": "code",
   "execution_count": 59,
   "metadata": {},
   "outputs": [],
   "source": [
    "instance1 = MyClass('John', 36) # instance of the class "
   ]
  },
  {
   "cell_type": "code",
   "execution_count": 54,
   "metadata": {},
   "outputs": [
    {
     "name": "stdout",
     "output_type": "stream",
     "text": [
      "Hello my name is John and I am 36 years old\n"
     ]
    }
   ],
   "source": [
    "instance1.print_name('Hello') # calling the method of the class"
   ]
  },
  {
   "cell_type": "code",
   "execution_count": 63,
   "metadata": {},
   "outputs": [
    {
     "ename": "TypeError",
     "evalue": "MyClass.eucleadian_dist() got an unexpected keyword argument 'x1'",
     "output_type": "error",
     "traceback": [
      "\u001b[0;31m---------------------------------------------------------------------------\u001b[0m",
      "\u001b[0;31mTypeError\u001b[0m                                 Traceback (most recent call last)",
      "Cell \u001b[0;32mIn[63], line 1\u001b[0m\n\u001b[0;32m----> 1\u001b[0m \u001b[43minstance1\u001b[49m\u001b[38;5;241;43m.\u001b[39;49m\u001b[43meucleadian_dist\u001b[49m\u001b[43m(\u001b[49m\u001b[43mx1\u001b[49m\u001b[43m \u001b[49m\u001b[38;5;241;43m=\u001b[39;49m\u001b[43m \u001b[49m\u001b[38;5;241;43m24\u001b[39;49m\u001b[43m,\u001b[49m\u001b[43m \u001b[49m\u001b[43mx2\u001b[49m\u001b[43m \u001b[49m\u001b[38;5;241;43m=\u001b[39;49m\u001b[38;5;241;43m30\u001b[39;49m\u001b[43m,\u001b[49m\u001b[43m \u001b[49m\u001b[43my1\u001b[49m\u001b[43m \u001b[49m\u001b[38;5;241;43m=\u001b[39;49m\u001b[38;5;241;43m40\u001b[39;49m\u001b[43m,\u001b[49m\u001b[43m \u001b[49m\u001b[43my2\u001b[49m\u001b[43m \u001b[49m\u001b[38;5;241;43m=\u001b[39;49m\u001b[38;5;241;43m50\u001b[39;49m\u001b[43m)\u001b[49m \u001b[38;5;66;03m# calling the method of the class\u001b[39;00m\n",
      "\u001b[0;31mTypeError\u001b[0m: MyClass.eucleadian_dist() got an unexpected keyword argument 'x1'"
     ]
    }
   ],
   "source": [
    "instance1.eucleadian_dist(x1 = 24, x2 =30, y1 =40, y2 =50) # calling the method of the class"
   ]
  },
  {
   "cell_type": "code",
   "execution_count": 61,
   "metadata": {},
   "outputs": [],
   "source": [
    "# Excercise \n",
    "\n",
    "# 1. create a class 'Emplyee' with the following attributes:\n",
    "#   - name\n",
    "#   - age\n",
    "#   - salary\n",
    "# 2. methods \n",
    "    # 1. print_name\n",
    "#   2. calculate the year of birth \n",
    "#   3. input from the user about new salary (Check the current salary and increment the salary) \n",
    "#   - only 10% increment is possible no more than that  "
   ]
  },
  {
   "cell_type": "code",
   "execution_count": 19,
   "metadata": {},
   "outputs": [],
   "source": []
  },
  {
   "cell_type": "code",
   "execution_count": 20,
   "metadata": {},
   "outputs": [],
   "source": []
  },
  {
   "cell_type": "code",
   "execution_count": 23,
   "metadata": {},
   "outputs": [
    {
     "ename": "NameError",
     "evalue": "name 'Employee3' is not defined",
     "output_type": "error",
     "traceback": [
      "\u001b[0;31m---------------------------------------------------------------------------\u001b[0m",
      "\u001b[0;31mNameError\u001b[0m                                 Traceback (most recent call last)",
      "Cell \u001b[0;32mIn[23], line 1\u001b[0m\n\u001b[0;32m----> 1\u001b[0m \u001b[43mEmployee3\u001b[49m\u001b[38;5;241m.\u001b[39mname\n",
      "\u001b[0;31mNameError\u001b[0m: name 'Employee3' is not defined"
     ]
    }
   ],
   "source": [
    "Employee3.name"
   ]
  }
 ],
 "metadata": {
  "kernelspec": {
   "display_name": "Python 3",
   "language": "python",
   "name": "python3"
  },
  "language_info": {
   "codemirror_mode": {
    "name": "ipython",
    "version": 3
   },
   "file_extension": ".py",
   "mimetype": "text/x-python",
   "name": "python",
   "nbconvert_exporter": "python",
   "pygments_lexer": "ipython3",
   "version": "3.10.12"
  }
 },
 "nbformat": 4,
 "nbformat_minor": 2
}

{
 "cells": [
  {
   "cell_type": "code",
   "execution_count": null,
   "metadata": {},
   "outputs": [],
   "source": []
  },
  {
   "cell_type": "markdown",
   "metadata": {},
   "source": [
    "# Python Classes\n"
   ]
  },
  {
   "cell_type": "code",
   "execution_count": null,
   "metadata": {},
   "outputs": [],
   "source": [
    "# Basic definition of a class in Python \n",
    "\n"
   ]
  },
  {
   "cell_type": "code",
   "execution_count": 1,
   "metadata": {},
   "outputs": [],
   "source": [
    "# Variable declaration\n",
    "variable1 = 'Name'\n",
    "\n",
    "# Function declaration \n",
    "def function1():\n",
    "    print('Function 1')\n",
    "\n",
    "# Dictionary declaration \n",
    "dictionary1 = {'key1': 'value1'} \n",
    "\n",
    "# cars in dictionary    \n",
    "car1 = {'brand': 'Ford', 'model': 'Mustang', 'year': 1964} \n",
    "cars ={}\n",
    "cars['car1'] = car1  \n",
    "\n",
    "# List declaration \n",
    "list1 = ['item1', 'item2', 'item3'] # mutable object\n",
    "\n",
    "# Tuple declaration \n",
    "tuple1 = ('item1', 'item2', 'item3') #immutable object \n",
    "\n",
    "# Set declaration \n",
    "set1 = {'item1', 'item2', 'item3'} # mutable object "
   ]
  },
  {
   "cell_type": "code",
   "execution_count": 2,
   "metadata": {},
   "outputs": [
    {
     "data": {
      "text/plain": [
       "{'car1': {'brand': 'Ford', 'model': 'Mustang', 'year': 1964}}"
      ]
     },
     "execution_count": 2,
     "metadata": {},
     "output_type": "execute_result"
    }
   ],
   "source": [
    "cars"
   ]
  },
  {
   "cell_type": "code",
   "execution_count": 64,
   "metadata": {},
   "outputs": [],
   "source": [
    "# Classes \n",
    "\n",
    "# Data Structures\n",
    "\n",
    "\n",
    "name = 'John' \n",
    "\n",
    "#initialize the class \n",
    "class MyClass: # OBJECT \n",
    "    # function inside the class\n",
    "    def __init__(self, name, age): \n",
    "        self.name = name \n",
    "        self.age = age\n",
    "        self.x1 = 5\n",
    "        self.y1 = 10\n",
    "        self.x2 = 15\n",
    "        self.y2 = 20\n",
    "        # variable inside the class \n",
    "        # intilization of the class\n",
    "    \n",
    "    def print_name(self, inputs):                       # methods \n",
    "        print(\"Hello my name is \" + self.name + \" and I am \" + str(self.age) + \" years old\")\n",
    "    \n",
    "    def eucleadian_dist(self, x1, x2, y1, y2):\n",
    "        \"\"\"Calculate the distance between 2 points.\"\"\"\n",
    "        distance = ((self.x2 - self.x1)**2 + (self.y2 - self.y1)**2)**0.5\n",
    "        return distance\n",
    "\n"
   ]
  },
  {
   "cell_type": "code",
   "execution_count": 59,
   "metadata": {},
   "outputs": [],
   "source": [
    "instance1 = MyClass('John', 36) # instance of the class "
   ]
  },
  {
   "cell_type": "code",
   "execution_count": 54,
   "metadata": {},
   "outputs": [
    {
     "name": "stdout",
     "output_type": "stream",
     "text": [
      "Hello my name is John and I am 36 years old\n"
     ]
    }
   ],
   "source": [
    "instance1.print_name('Hello') # calling the method of the class"
   ]
  },
  {
   "cell_type": "code",
   "execution_count": 63,
   "metadata": {},
   "outputs": [
    {
     "ename": "TypeError",
     "evalue": "MyClass.eucleadian_dist() got an unexpected keyword argument 'x1'",
     "output_type": "error",
     "traceback": [
      "\u001b[0;31m---------------------------------------------------------------------------\u001b[0m",
      "\u001b[0;31mTypeError\u001b[0m                                 Traceback (most recent call last)",
      "Cell \u001b[0;32mIn[63], line 1\u001b[0m\n\u001b[0;32m----> 1\u001b[0m \u001b[43minstance1\u001b[49m\u001b[38;5;241;43m.\u001b[39;49m\u001b[43meucleadian_dist\u001b[49m\u001b[43m(\u001b[49m\u001b[43mx1\u001b[49m\u001b[43m \u001b[49m\u001b[38;5;241;43m=\u001b[39;49m\u001b[43m \u001b[49m\u001b[38;5;241;43m24\u001b[39;49m\u001b[43m,\u001b[49m\u001b[43m \u001b[49m\u001b[43mx2\u001b[49m\u001b[43m \u001b[49m\u001b[38;5;241;43m=\u001b[39;49m\u001b[38;5;241;43m30\u001b[39;49m\u001b[43m,\u001b[49m\u001b[43m \u001b[49m\u001b[43my1\u001b[49m\u001b[43m \u001b[49m\u001b[38;5;241;43m=\u001b[39;49m\u001b[38;5;241;43m40\u001b[39;49m\u001b[43m,\u001b[49m\u001b[43m \u001b[49m\u001b[43my2\u001b[49m\u001b[43m \u001b[49m\u001b[38;5;241;43m=\u001b[39;49m\u001b[38;5;241;43m50\u001b[39;49m\u001b[43m)\u001b[49m \u001b[38;5;66;03m# calling the method of the class\u001b[39;00m\n",
      "\u001b[0;31mTypeError\u001b[0m: MyClass.eucleadian_dist() got an unexpected keyword argument 'x1'"
     ]
    }
   ],
   "source": [
    "instance1.eucleadian_dist(x1 = 24, x2 =30, y1 =40, y2 =50) # calling the method of the class"
   ]
  },
  {
   "cell_type": "code",
   "execution_count": 61,
   "metadata": {},
   "outputs": [],
   "source": [
    "# Excercise \n",
    "\n",
    "# 1. create a class 'Emplyee' with the following attributes:\n",
    "#   - name\n",
    "#   - age\n",
    "#   - salary\n",
    "# 2. methods \n",
    "#   1. print_name\n",
    "#   2. calculate the year of birth \n",
    "#   3. input from the user about new salary (Check the current salary and increment the salary) \n",
    "#   - only 10% increment is possible no more than that  "
   ]
  },
  {
   "cell_type": "code",
   "execution_count": 19,
   "metadata": {},
   "outputs": [],
   "source": []
  },
  {
   "cell_type": "code",
   "execution_count": 20,
   "metadata": {},
   "outputs": [],
   "source": []
  },
  {
   "cell_type": "code",
   "execution_count": 23,
   "metadata": {},
   "outputs": [
    {
     "ename": "NameError",
     "evalue": "name 'Employee3' is not defined",
     "output_type": "error",
     "traceback": [
      "\u001b[0;31m---------------------------------------------------------------------------\u001b[0m",
      "\u001b[0;31mNameError\u001b[0m                                 Traceback (most recent call last)",
      "Cell \u001b[0;32mIn[23], line 1\u001b[0m\n\u001b[0;32m----> 1\u001b[0m \u001b[43mEmployee3\u001b[49m\u001b[38;5;241m.\u001b[39mname\n",
      "\u001b[0;31mNameError\u001b[0m: name 'Employee3' is not defined"
     ]
    }
   ],
   "source": [
    "Employee3.name"
   ]
  },
  {
   "cell_type": "code",
   "execution_count": 75,
   "metadata": {},
   "outputs": [],
   "source": [
    "class Employee(Person):\n",
    "    def __init__(self, name, age, salary):\n",
    "        self.name = name\n",
    "        self.age = age\n",
    "        self.salary = salary\n",
    "        \n",
    "    def print_name(self):\n",
    "        print('Hello my name is ' + self.name + ' and I am ' + str(self.age) + ' years old')\n",
    "        \n",
    "    def year_of_birth(self):\n",
    "        year = 2021 - self.age\n",
    "        print(year)\n",
    "        return year\n",
    "    \n",
    "    def increment_salary(self, new_salary):\n",
    "        if new_salary > self.salary * 1.1:\n",
    "            print('You cannot increase the salary more than 10%')\n",
    "            new_salary = self.salary + self.salary * 0.1\n",
    "            print('The new salary is ' + str(new_salary)) \n",
    "        else:\n",
    "            self.salary = new_salary\n",
    "            print('The new salary is ' + str(self.salary))\n",
    "        new_salary = self.salary + self.salary * 0.1\n",
    "\n",
    "        self.salary = new_salary\n",
    "        return new_salary"
   ]
  },
  {
   "cell_type": "code",
   "execution_count": 78,
   "metadata": {},
   "outputs": [
    {
     "name": "stdout",
     "output_type": "stream",
     "text": [
      "Hello my name is John and I am 36 years old\n",
      "1985\n",
      "The new salary is 109000\n",
      "**************************************************\n",
      "Hello my name is Jane and I am 30 years old\n",
      "1991\n",
      "You cannot increase the salary more than 10%\n",
      "The new salary is 88000.0\n",
      "**************************************************\n",
      "Hello my name is Jack and I am 25 years old\n",
      "1996\n",
      "You cannot increase the salary more than 10%\n",
      "The new salary is 66000.0\n"
     ]
    },
    {
     "data": {
      "text/plain": [
       "66000.0"
      ]
     },
     "execution_count": 78,
     "metadata": {},
     "output_type": "execute_result"
    }
   ],
   "source": [
    "# initialize the class instances \n",
    "Employee1 = Employee('John', 36, 100000)\n",
    "Employee2 = Employee('Jane', 30, 80000) \n",
    "Employee3 = Employee('Jack', 25, 60000) \n",
    "\n",
    "Employee1.print_name() \n",
    "Employee1.year_of_birth() \n",
    "Employee1.increment_salary(109000) \n",
    "\n",
    "print('*'*50)\n",
    "\n",
    "Employee2.print_name() \n",
    "Employee2.year_of_birth() \n",
    "Employee2.increment_salary(120000) \n",
    "\n",
    "print('*'*50)\n",
    "\n",
    "Employee3.print_name() \n",
    "Employee3.year_of_birth()\n",
    "Employee3.increment_salary(120000) \n"
   ]
  },
  {
   "cell_type": "code",
   "execution_count": 96,
   "metadata": {},
   "outputs": [],
   "source": [
    "class Managers(Employee, Class-N):\n",
    "    def __init__(self, name, age, salary, people_managed):\n",
    "        super().__init__(self, name, age, salary)\n",
    "        self.people_managed = people_managed\n",
    "        self.name = name\n",
    "\n",
    "    def check_people_managed(self):\n",
    "        print('I manage ' + str(self.people_managed) + ' people')\n",
    "        return self.people_managed\n",
    "    \n",
    "\n",
    "    "
   ]
  },
  {
   "cell_type": "code",
   "execution_count": 97,
   "metadata": {},
   "outputs": [],
   "source": [
    "Manager1 = Managers('John', 36, 100000, 3)"
   ]
  },
  {
   "cell_type": "code",
   "execution_count": 102,
   "metadata": {},
   "outputs": [
    {
     "name": "stdout",
     "output_type": "stream",
     "text": [
      "Hello my name is John and I am 36 years old\n",
      "I manage 3 people\n"
     ]
    },
    {
     "data": {
      "text/plain": [
       "3"
      ]
     },
     "execution_count": 102,
     "metadata": {},
     "output_type": "execute_result"
    }
   ],
   "source": [
    "Manager1.print_name()\n",
    "Manager1.check_people_managed()"
   ]
  },
  {
   "cell_type": "code",
   "execution_count": 114,
   "metadata": {},
   "outputs": [],
   "source": [
    "class Dog:\n",
    "    # Global variable \n",
    "    tricks =[]\n",
    "\n",
    "    def __init__(self, name, age):\n",
    "        self.name = name\n",
    "        self.age = age\n",
    "        # self.tricks = [] # instance variable \n",
    "\n",
    "    def bark(self):\n",
    "        print('Woof woof')\n",
    "\n",
    "    def dog_age(self):\n",
    "        print('My dog is ' + str(self.age) + ' years old')\n",
    "\n",
    "    def dog_name(self):\n",
    "        print('My dog name is ' + self.name)\n",
    "    \n",
    "    def add_trick(self, trick): \n",
    "        self.tricks.append(trick)\n",
    "        print(self.tricks)"
   ]
  },
  {
   "cell_type": "code",
   "execution_count": 111,
   "metadata": {},
   "outputs": [],
   "source": [
    "Dog1 = Dog('Buddy', 5)\n",
    "Dog2 = Dog('Max', 3)\n",
    "Dog3 = Dog('Charlie', 2)"
   ]
  },
  {
   "cell_type": "code",
   "execution_count": 112,
   "metadata": {},
   "outputs": [
    {
     "name": "stdout",
     "output_type": "stream",
     "text": [
      "['roll over', 'play dead', 'roll over']\n"
     ]
    }
   ],
   "source": [
    "Dog2.add_trick('roll over')"
   ]
  },
  {
   "cell_type": "code",
   "execution_count": 109,
   "metadata": {},
   "outputs": [
    {
     "name": "stdout",
     "output_type": "stream",
     "text": [
      "['roll over', 'play dead']\n"
     ]
    }
   ],
   "source": [
    "Dog2.add_trick('play dead')"
   ]
  },
  {
   "cell_type": "code",
   "execution_count": 113,
   "metadata": {},
   "outputs": [
    {
     "data": {
      "text/plain": [
       "['roll over', 'play dead', 'roll over']"
      ]
     },
     "execution_count": 113,
     "metadata": {},
     "output_type": "execute_result"
    }
   ],
   "source": [
    "Dog3.tricks"
   ]
  },
  {
   "cell_type": "code",
   "execution_count": 115,
   "metadata": {},
   "outputs": [],
   "source": [
    "# 1. what is a class \n",
    "# 2. Difference between class and instance \n",
    "# 3. inhertiance \n",
    "# 4. super()\n",
    "# 5. class variables (Global variables)\n",
    "# Write class methods and how to call them from a different class (Base class and derived class) "
   ]
  },
  {
   "cell_type": "code",
   "execution_count": null,
   "metadata": {},
   "outputs": [],
   "source": [
    "# SUPER \n"
   ]
  }
 ],
 "metadata": {
  "kernelspec": {
   "display_name": "Python 3",
   "language": "python",
   "name": "python3"
  },
  "language_info": {
   "codemirror_mode": {
    "name": "ipython",
    "version": 3
   },
   "file_extension": ".py",
   "mimetype": "text/x-python",
   "name": "python",
   "nbconvert_exporter": "python",
   "pygments_lexer": "ipython3",
   "version": "3.10.12"
  }
 },
 "nbformat": 4,
 "nbformat_minor": 2
}
